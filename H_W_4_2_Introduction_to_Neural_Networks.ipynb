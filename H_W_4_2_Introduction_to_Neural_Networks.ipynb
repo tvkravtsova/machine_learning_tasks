{
  "nbformat": 4,
  "nbformat_minor": 0,
  "metadata": {
    "colab": {
      "provenance": []
    },
    "kernelspec": {
      "name": "python3",
      "display_name": "Python 3"
    },
    "language_info": {
      "name": "python"
    }
  },
  "cells": [
    {
      "cell_type": "markdown",
      "source": [
        "**Секція 1. Логістична регресія з нуля.**\n",
        "\n",
        "Будемо крок за кроком будувати модель лог регресії з нуля для передбачення, чи буде врожай більше за 80 яблук (задача подібна до лекційної, але на класифікацію).\n",
        "\n",
        "Давайте нагадаємо основні формули для логістичної регресії.\n",
        "\n",
        "### Функція гіпотези - обчислення передбачення у логістичній регресії:\n",
        "\n",
        "$$\n",
        "\\hat{y} = \\sigma(x W^T + b) = \\frac{1}{1 + e^{-(x W^T + b)}}\n",
        "$$\n",
        "\n",
        "Де:\n",
        "- $ \\hat{y} $ — це ймовірність \"позитивного\" класу.\n",
        "- $ x $ — це вектор (або матриця для набору прикладів) вхідних даних.\n",
        "- $ W $ — це вектор (або матриця) вагових коефіцієнтів моделі.\n",
        "- $ b $ — це зміщення (bias).\n",
        "- $ \\sigma(z) $ — це сигмоїдна функція активації.\n",
        "\n",
        "### Як обчислюється сигмоїдна функція:\n",
        "\n",
        "Сигмоїдна функція $ \\sigma(z) $ має вигляд:\n",
        "\n",
        "$$\n",
        "\\sigma(z) = \\frac{1}{1 + e^{-z}}\n",
        "$$\n",
        "\n",
        "Ця функція перетворює будь-яке дійсне значення $ z $ в інтервал від 0 до 1, що дозволяє інтерпретувати вихід як ймовірність для логістичної регресії.\n",
        "\n",
        "### Формула функції втрат для логістичної регресії (бінарна крос-ентропія):\n",
        "\n",
        "Функція втрат крос-ентропії оцінює, наскільки добре модель передбачає класи, порівнюючи передбачені ймовірності $ \\hat{y} $ із справжніми мітками $ y $. Формула наступна:\n",
        "\n",
        "$$\n",
        "L(y, \\hat{y}) = - \\left[ y \\cdot \\log(\\hat{y}) + (1 - y) \\cdot \\log(1 - \\hat{y}) \\right]\n",
        "$$\n",
        "\n",
        "Де:\n",
        "- $ y $ — це справжнє значення (мітка класу, 0 або 1).\n",
        "- $ \\hat{y} $ — це передбачене значення (ймовірність).\n",
        "\n"
      ],
      "metadata": {
        "id": "lbLHTNfSclli"
      }
    },
    {
      "cell_type": "markdown",
      "source": [
        "1.\n",
        "Тут вже наведений код для ініціювання набору даних в форматі numpy. Перетворіть `inputs`, `targets` на `torch` тензори. Виведіть результат на екран."
      ],
      "metadata": {
        "id": "GtOYB-RHfc_r"
      }
    },
    {
      "cell_type": "code",
      "source": [
        "import torch\n",
        "import numpy as np"
      ],
      "metadata": {
        "id": "3BNXSR-VdYKQ"
      },
      "execution_count": 128,
      "outputs": []
    },
    {
      "cell_type": "code",
      "execution_count": 129,
      "metadata": {
        "id": "QLKZ77x4v_-v"
      },
      "outputs": [],
      "source": [
        "# Вхідні дані (temp, rainfall, humidity)\n",
        "inputs = np.array([[73, 67, 43],\n",
        "                   [91, 88, 64],\n",
        "                   [87, 134, 58],\n",
        "                   [102, 43, 37],\n",
        "                   [69, 96, 70]], dtype='float32')\n",
        "\n",
        "# Таргети (apples > 80)\n",
        "targets = np.array([[0],\n",
        "                    [1],\n",
        "                    [1],\n",
        "                    [0],\n",
        "                    [1]], dtype='float32')"
      ]
    },
    {
      "cell_type": "code",
      "source": [
        "# Перетворення вхідних даних і цілей у тензори\n",
        "inputs = torch.from_numpy(inputs)\n",
        "targets = torch.from_numpy(targets)\n",
        "\n",
        "# Виведення результатів\n",
        "print(\"Inputs:\\n\", inputs)\n",
        "print(\"\\nTargets:\\n\", targets)"
      ],
      "metadata": {
        "colab": {
          "base_uri": "https://localhost:8080/"
        },
        "id": "Tdhi6htb8iyI",
        "outputId": "6ffea0cf-1b08-483b-e72f-4f144bf71be3"
      },
      "execution_count": 130,
      "outputs": [
        {
          "output_type": "stream",
          "name": "stdout",
          "text": [
            "Inputs:\n",
            " tensor([[ 73.,  67.,  43.],\n",
            "        [ 91.,  88.,  64.],\n",
            "        [ 87., 134.,  58.],\n",
            "        [102.,  43.,  37.],\n",
            "        [ 69.,  96.,  70.]])\n",
            "\n",
            "Targets:\n",
            " tensor([[0.],\n",
            "        [1.],\n",
            "        [1.],\n",
            "        [0.],\n",
            "        [1.]])\n"
          ]
        }
      ]
    },
    {
      "cell_type": "markdown",
      "source": [
        "Ми перетворили масиви NumPy на тензори PyTorch та вивели вхідні дані та таргети у форматі тензорів:\n",
        "\n",
        "inputs: кожен рядок — це екземпляр з трьох вхідних характеристик для кожного спостереження.\n",
        "\n",
        "targets: кожен елемент — це мітка класу (0 або 1), яка вказує, чи кількість яблук перевищує 80."
      ],
      "metadata": {
        "id": "_STIw2Z3Hx2T"
      }
    },
    {
      "cell_type": "markdown",
      "source": [
        "2. Ініціюйте ваги `w`, `b` для моделі логістичної регресії потрібної форми зважаючи на розмірності даних випадковими значеннями з нормального розподілу. Лишаю тут код для фіксації `random_seed`."
      ],
      "metadata": {
        "id": "iKzbJKfOgGV8"
      }
    },
    {
      "cell_type": "code",
      "source": [
        "torch.random.manual_seed(1)"
      ],
      "metadata": {
        "id": "aXhKw6Tdj1-d",
        "colab": {
          "base_uri": "https://localhost:8080/"
        },
        "outputId": "d26038a9-67d5-43c9-f53f-5994700cd5aa"
      },
      "execution_count": 131,
      "outputs": [
        {
          "output_type": "execute_result",
          "data": {
            "text/plain": [
              "<torch._C.Generator at 0x79c8312e5b50>"
            ]
          },
          "metadata": {},
          "execution_count": 131
        }
      ]
    },
    {
      "cell_type": "code",
      "source": [
        "inputs.shape[1]"
      ],
      "metadata": {
        "colab": {
          "base_uri": "https://localhost:8080/"
        },
        "id": "0cXjXRCTQOq2",
        "outputId": "381b0c6e-8294-45c7-aad0-d231984b15ef"
      },
      "execution_count": 132,
      "outputs": [
        {
          "output_type": "execute_result",
          "data": {
            "text/plain": [
              "3"
            ]
          },
          "metadata": {},
          "execution_count": 132
        }
      ]
    },
    {
      "cell_type": "code",
      "source": [
        "# Ініціалізація ваг і зміщення\n",
        "w = torch.randn(1, 3, requires_grad=True)\n",
        "b = torch.randn(1, requires_grad=True)\n",
        "\n",
        "# Виведення результату\n",
        "print(\"Ваги w:\\n\", w)\n",
        "print(\"\\nЗміщення b:\\n\", b)"
      ],
      "metadata": {
        "colab": {
          "base_uri": "https://localhost:8080/"
        },
        "id": "iEBKPLjLAgX9",
        "outputId": "5110b28a-3927-4244-ece9-4965a6067f3f"
      },
      "execution_count": 133,
      "outputs": [
        {
          "output_type": "stream",
          "name": "stdout",
          "text": [
            "Ваги w:\n",
            " tensor([[0.6614, 0.2669, 0.0617]], requires_grad=True)\n",
            "\n",
            "Зміщення b:\n",
            " tensor([0.6213], requires_grad=True)\n"
          ]
        }
      ]
    },
    {
      "cell_type": "markdown",
      "source": [
        "Ми ініціалізували w (ваги) як випадкові значення з нормального розподілу (за допомогою torch.randn), де розмірність ваг — це 1 рядок з 3 значеннями (для трьох вхідних характеристик).\n",
        "\n",
        "Ми також ініціалізували b (bias) як випадкове значення з нормального розподілу. Воно має розмірність 1.\n",
        "\n",
        "Наші параметри мають властивість requires_grad=True, це означає, що PyTorch буде автоматично обчислювати похідні (градієнти) для цих параметрів під час зворотного поширення помилки (backpropagation). Це необхідно для коректного оновлення ваг і зміщення (bias) за допомогою алгоритму градієнтного спуску під час тренування моделі."
      ],
      "metadata": {
        "id": "rg6K2lXXJ9BU"
      }
    },
    {
      "cell_type": "markdown",
      "source": [
        "3. Напишіть функцію `model`, яка буде обчислювати функцію гіпотези в логістичній регресії і дозволяти робити передбачення на основі введеного рядка даних і коефіцієнтів в змінних `w`, `b`.\n",
        "\n",
        "  **Важливий момент**, що функція `model` робить обчислення на `torch.tensors`, тож для математичних обчислень використовуємо фукнціонал `torch`, наприклад:\n",
        "  - обчсилення $e^x$: `torch.exp(x)`\n",
        "  - обчсилення $log(x)$: `torch.log(x)`\n",
        "  - обчислення середнього значення вектору `x`: `torch.mean(x)`\n",
        "\n",
        "  Використайте функцію `model` для обчислення передбачень з поточними значеннями `w`, `b`.Виведіть результат обчислень на екран.\n",
        "\n",
        "  Проаналізуйте передбачення. Чи не викликають вони у вас підозр? І якщо викликають, то чим це може бути зумовлено?"
      ],
      "metadata": {
        "id": "nYGxNGTaf5s6"
      }
    },
    {
      "cell_type": "code",
      "source": [
        "import torch\n",
        "\n",
        "def model(x, w, b):\n",
        "    # Обчислюємо лінійну комбінацію\n",
        "    z = x @ w.t() + b\n",
        "\n",
        "    # Обчислюємо сигмоїду\n",
        "    y_pred = 1 / (1 + torch.exp(-z))\n",
        "\n",
        "    return y_pred\n"
      ],
      "metadata": {
        "id": "pSz2j4Fh6jBv"
      },
      "execution_count": 134,
      "outputs": []
    },
    {
      "cell_type": "code",
      "source": [
        "#z=inputs @ w.t() + b"
      ],
      "metadata": {
        "id": "WggthYxETT_p"
      },
      "execution_count": 135,
      "outputs": []
    },
    {
      "cell_type": "code",
      "source": [
        "#z"
      ],
      "metadata": {
        "colab": {
          "base_uri": "https://localhost:8080/"
        },
        "id": "_wPqNVakTYDd",
        "outputId": "3f94e54b-c557-4dd7-9c7a-7703890786f7"
      },
      "execution_count": 136,
      "outputs": [
        {
          "output_type": "execute_result",
          "data": {
            "text/plain": [
              "tensor([[69.4361],\n",
              "        [88.2410],\n",
              "        [97.5041],\n",
              "        [81.8390],\n",
              "        [76.1967]], grad_fn=<AddBackward0>)"
            ]
          },
          "metadata": {},
          "execution_count": 136
        }
      ]
    },
    {
      "cell_type": "code",
      "source": [
        "# Передбачення\n",
        "y_pred = model(inputs, w, b)\n",
        "print(y_pred)"
      ],
      "metadata": {
        "colab": {
          "base_uri": "https://localhost:8080/"
        },
        "id": "NrG_olrcMM3l",
        "outputId": "b7de3094-d956-428c-8558-42de2b39c870"
      },
      "execution_count": 137,
      "outputs": [
        {
          "output_type": "stream",
          "name": "stdout",
          "text": [
            "tensor([[1.],\n",
            "        [1.],\n",
            "        [1.],\n",
            "        [1.],\n",
            "        [1.]], grad_fn=<MulBackward0>)\n"
          ]
        }
      ]
    },
    {
      "cell_type": "markdown",
      "source": [
        "Модель на цьому етапі передбачає, що всі приклади належать до класу 1. Це свідчить про те, що початкові випадково задані ваги w та зміщення b дали великі додатні значення z. У результаті сигмоїдна функція, яка різко наближається до 1 при великих позитивних вхідних значеннях, видає передбачення, близькі до 1 для всіх прикладів.\n"
      ],
      "metadata": {
        "id": "uzZL2LamW9rC"
      }
    },
    {
      "cell_type": "markdown",
      "source": [
        "4. Напишіть функцію `binary_cross_entropy`, яка приймає на вхід передбачення моделі `predicted_probs` та справжні мітки в даних `true_labels` і обчислює значення втрат (loss)  за формулою бінарної крос-ентропії для кожного екземпляра та вертає середні втрати по всьому набору даних.\n",
        "  Використайте функцію `binary_cross_entropy` для обчислення втрат для поточних передбачень моделі."
      ],
      "metadata": {
        "id": "O2AGM0Mb2yHa"
      }
    },
    {
      "cell_type": "code",
      "source": [
        "def binary_cross_entropy(predicted_probs, true_labels):\n",
        "    # Додаємо мале число (epsilon), щоб уникнути log(0)\n",
        "    eps = 1e-7\n",
        "    predicted_probs = torch.clamp(predicted_probs, eps, 1 - eps)\n",
        "\n",
        "    # Формула бінарної крос-ентропії\n",
        "    loss = - (true_labels * torch.log(predicted_probs) + (1 - true_labels) * torch.log(1 - predicted_probs))\n",
        "\n",
        "    # Вертаємо середнє значення втрат\n",
        "    return loss.mean()\n"
      ],
      "metadata": {
        "id": "1bWlovvx6kZS"
      },
      "execution_count": 81,
      "outputs": []
    },
    {
      "cell_type": "code",
      "source": [
        "loss = binary_cross_entropy(y_pred, targets)\n",
        "print(\"Loss:\", loss.item())"
      ],
      "metadata": {
        "colab": {
          "base_uri": "https://localhost:8080/"
        },
        "id": "Ccy39u2pfbzF",
        "outputId": "3b14c42a-78eb-4b20-f478-7920c135da0f"
      },
      "execution_count": 82,
      "outputs": [
        {
          "output_type": "stream",
          "name": "stdout",
          "text": [
            "Loss: 6.376954078674316\n"
          ]
        }
      ]
    },
    {
      "cell_type": "markdown",
      "source": [
        "Наш код обчислює втрати за допомогою функції бінарної крос-ентропії для логістичної регресії.\n",
        "\n",
        "Функція виводить середнє значення втрат, що становить 6.37.\n",
        "\n",
        "На даному етапі тренування модель робить помилки при прогнозуванні, які є досить великими."
      ],
      "metadata": {
        "id": "IqFDR7wnM31_"
      }
    },
    {
      "cell_type": "markdown",
      "source": [
        "5. Зробіть зворотнє поширення помилки і виведіть градієнти за параметрами `w`, `b`. Проаналізуйте їх значення. Як гадаєте, чому вони саме такі?"
      ],
      "metadata": {
        "id": "ZFKpQxdHi1__"
      }
    },
    {
      "cell_type": "code",
      "source": [
        "# Обчислимо gradients\n",
        "loss.backward()"
      ],
      "metadata": {
        "id": "YAbXUNSJ6mCl"
      },
      "execution_count": 83,
      "outputs": []
    },
    {
      "cell_type": "code",
      "source": [
        "# Градієнти вагів\n",
        "print(w)\n",
        "print(w.grad)"
      ],
      "metadata": {
        "colab": {
          "base_uri": "https://localhost:8080/"
        },
        "id": "at0rI-mUhjmx",
        "outputId": "fe048e8b-5e14-44ee-964c-d4c0f061fdb2"
      },
      "execution_count": 84,
      "outputs": [
        {
          "output_type": "stream",
          "name": "stdout",
          "text": [
            "tensor([[0.6614, 0.2669, 0.0617]], requires_grad=True)\n",
            "tensor([[0., 0., 0.]])\n"
          ]
        }
      ]
    },
    {
      "cell_type": "code",
      "source": [
        "# Градієнти для bias\n",
        "print(b)\n",
        "print(b.grad)"
      ],
      "metadata": {
        "colab": {
          "base_uri": "https://localhost:8080/"
        },
        "id": "x6JkdjNdiHw-",
        "outputId": "c9e71d47-7132-4c4d-d583-66ddaff77b2a"
      },
      "execution_count": 85,
      "outputs": [
        {
          "output_type": "stream",
          "name": "stdout",
          "text": [
            "tensor([0.6213], requires_grad=True)\n",
            "tensor([0.])\n"
          ]
        }
      ]
    },
    {
      "cell_type": "markdown",
      "source": [
        "Ми обчислили градієнти для параметрів моделі (ваг і зміщень) на основі функції втрат. Оскільки градієнти рівні нулю, це означає, що модель не оновлює свої параметри під час тренування. Модель не може ефективно навчатися."
      ],
      "metadata": {
        "id": "oQRqm7JBOPaA"
      }
    },
    {
      "cell_type": "markdown",
      "source": [
        "**Що сталось?**\n",
        "\n",
        "В цій задачі, коли ми ініціювали значення випадковими значеннями з нормального розподілу, насправді ці значення не були дуже гарними стартовими значеннями і привели до того, що градієнти стали дуже малими або навіть рівними нулю (це призводить до того, що градієнти \"зникають\"), і відповідно при оновленні ваг у нас не буде нічого змінюватись. Це називається `gradient vanishing`. Це відбувається через **насичення сигмоїдної функції активації.**\n",
        "\n",
        "У нашій задачі ми використовуємо сигмоїдну функцію активації, яка має такий вигляд:\n",
        "\n",
        "   $$\n",
        "   \\sigma(z) = \\frac{1}{1 + e^{-z}}\n",
        "   $$\n",
        "\n",
        "\n",
        "Коли значення $z$ дуже велике або дуже мале, сигмоїдна функція починає \"насичуватись\". Це означає, що для великих позитивних $z$ сигмоїда наближається до 1, а для великих негативних — до 0. В цих діапазонах градієнти починають стрімко зменшуватись і наближаються до нуля (бо градієнт - це похідна, похідна на проміжку функції, де вона паралельна осі ОХ, дорівнює 0), що робить оновлення ваг неможливим.\n",
        "\n",
        "![](https://editor.analyticsvidhya.com/uploads/27889vaegp.png)\n",
        "\n",
        "У логістичній регресії $ z = x \\cdot w + b $. Якщо ваги $w, b$ - великі, значення $z$ також буде великим, і сигмоїда перейде в насичену область, де градієнти дуже малі.\n",
        "\n",
        "Саме це сталося в нашій задачі, де великі випадкові значення ваг викликали насичення сигмоїдної функції. Це в свою чергу призводить до того, що під час зворотного поширення помилки (backpropagation) модель оновлює ваги дуже повільно або зовсім не оновлює. Це називається проблемою **зникнення градієнтів** (gradient vanishing problem).\n",
        "\n",
        "**Що ж робити?**\n",
        "Ініціювати ваги маленькими значеннями навколо нуля. Наприклад ми можемо просто в існуючій ініціалізації ваги розділити на 1000. Можна також використати інший спосіб ініціалізації вагів - інформація про це [тут](https://www.geeksforgeeks.org/initialize-weights-in-pytorch/).\n",
        "\n",
        "Як це робити - показую нижче. **Виконайте код та знову обчисліть передбачення, лосс і виведіть градієнти.**\n",
        "\n",
        "А я пишу пояснення, чому просто не зробити\n",
        "\n",
        "```\n",
        "w = torch.randn(1, 3, requires_grad=True)/1000\n",
        "b = torch.randn(1, requires_grad=True)/1000\n",
        "```\n",
        "\n",
        "Нам потрібно, аби тензори вагів були листовими (leaf tensors).\n",
        "\n",
        "1. **Що таке листовий тензор**\n",
        "Листовий тензор — це тензор, який був створений користувачем безпосередньо і з якого починається обчислювальний граф. Якщо такий тензор має `requires_grad=True`, PyTorch буде відслідковувати всі операції, виконані над ним, щоб правильно обчислювати градієнти під час навчання.\n",
        "\n",
        "2. **Чому ми використовуємо `w.data` замість звичайних операцій**\n",
        "Якщо ми просто виконали б операції, такі як `(w - 0.5) / 100`, ми б отримали **новий тензор**, який вже не був би листовим тензором, оскільки ці операції створюють **новий** тензор, а не модифікують існуючий.\n",
        "\n",
        "  Проте, щоб залишити наші тензори ваги `w` та зміщення `b` листовими і продовжити можливість відстеження градієнтів під час тренування, ми використовуємо атрибут `.data`. Цей атрибут дозволяє **виконувати операції in-place (прямо на існуючому тензорі)** без зміни самого об'єкта тензора. Отже, тензор залишається листовим, і PyTorch може коректно обчислювати його градієнти.\n",
        "\n",
        "3. **Чому важливо залишити тензор листовим**\n",
        "Якщо тензор більше не є листовим (наприклад, через проведення операцій, що створюють нові тензори), ви не зможете отримати градієнти за допомогою `w.grad` чи `b.grad` після виклику `loss.backward()`. Це може призвести до втрати можливості оновлення параметрів під час тренування моделі. В нашому випадку ми хочемо, щоб тензори `w` та `b` накопичували градієнти, тому вони повинні залишатись листовими.\n",
        "\n",
        "**Висновок:**\n",
        "Ми використовуємо `.data`, щоб виконати операції зміни значень на ваги і зміщення **in-place**, залишаючи їх листовими тензорами, які можуть накопичувати градієнти під час навчання. Це дозволяє коректно працювати механізму зворотного поширення помилки (backpropagation) і оновлювати ваги моделі."
      ],
      "metadata": {
        "id": "nDN1t1RujQsK"
      }
    },
    {
      "cell_type": "markdown",
      "source": [
        "5. Виконайте код та знову обчисліть передбачення, лосс і знайдіть градієнти та виведіть всі ці тензори на екран."
      ],
      "metadata": {
        "id": "rOPSQyttpVjO"
      }
    },
    {
      "cell_type": "code",
      "source": [
        "torch.random.manual_seed(1)\n",
        "w = torch.randn(1, 3, requires_grad=True)\n",
        "b = torch.randn(1, requires_grad=True)\n",
        "\n",
        "# in-place операції\n",
        "w.data = w.data / 1000\n",
        "b.data = b.data / 1000"
      ],
      "metadata": {
        "id": "-EBOJ3tsnRaD"
      },
      "execution_count": 138,
      "outputs": []
    },
    {
      "cell_type": "code",
      "source": [
        "y_pred = model(inputs, w, b)\n",
        "print(y_pred)"
      ],
      "metadata": {
        "id": "-JwXiSpX6orh",
        "colab": {
          "base_uri": "https://localhost:8080/"
        },
        "outputId": "dd26211a-a359-4e52-c34a-fc121e29d103"
      },
      "execution_count": 139,
      "outputs": [
        {
          "output_type": "stream",
          "name": "stdout",
          "text": [
            "tensor([[0.5174],\n",
            "        [0.5220],\n",
            "        [0.5244],\n",
            "        [0.5204],\n",
            "        [0.5190]], grad_fn=<MulBackward0>)\n"
          ]
        }
      ]
    },
    {
      "cell_type": "code",
      "source": [
        "loss = binary_cross_entropy(y_pred, targets)\n",
        "print(\"Loss:\", loss.item())"
      ],
      "metadata": {
        "colab": {
          "base_uri": "https://localhost:8080/"
        },
        "id": "qyiZrGSaknnu",
        "outputId": "82390555-1792-4d7c-e2bd-40612338c5cb"
      },
      "execution_count": 140,
      "outputs": [
        {
          "output_type": "stream",
          "name": "stdout",
          "text": [
            "Loss: 0.6829456686973572\n"
          ]
        }
      ]
    },
    {
      "cell_type": "code",
      "source": [
        "# Обчислимо gradients\n",
        "loss.backward()"
      ],
      "metadata": {
        "id": "YCyNFmXElyJ1"
      },
      "execution_count": 89,
      "outputs": []
    },
    {
      "cell_type": "code",
      "source": [
        "# Градієнти вагів\n",
        "print(w)\n",
        "print(w.grad)"
      ],
      "metadata": {
        "colab": {
          "base_uri": "https://localhost:8080/"
        },
        "id": "qiWFGk_FmJZo",
        "outputId": "75c30d76-ef2f-4d1d-fe98-f724f9c93841"
      },
      "execution_count": 90,
      "outputs": [
        {
          "output_type": "stream",
          "name": "stdout",
          "text": [
            "tensor([[6.6135e-04, 2.6692e-04, 6.1677e-05]], requires_grad=True)\n",
            "tensor([[ -5.4417, -18.9853, -10.0682]])\n"
          ]
        }
      ]
    },
    {
      "cell_type": "code",
      "source": [
        "# Градієнти для bias\n",
        "print(b)\n",
        "print(b.grad)"
      ],
      "metadata": {
        "colab": {
          "base_uri": "https://localhost:8080/"
        },
        "id": "LSO49Au3mB5B",
        "outputId": "e5bb5b15-e612-4ac6-c721-655d0fa9b1d7"
      },
      "execution_count": 91,
      "outputs": [
        {
          "output_type": "stream",
          "name": "stdout",
          "text": [
            "tensor([0.0006], requires_grad=True)\n",
            "tensor([-0.0794])\n"
          ]
        }
      ]
    },
    {
      "cell_type": "markdown",
      "source": [
        "Ми зробили значення ваг дуже малими, при цьому вони залишилися тензорами, для яких PyTorch відслідковує градієнти.\n",
        "\n",
        "Градієнти ваг стали великими й від’ємними (-5.4417, -18.9853, -10.0682), що вказує на напрямок, у якому модель має змінювати ваги, щоб зменшити втрати.\n",
        "\n",
        "Зміщення b також має мале значення (0.0006), а його градієнт становить -0.0794.\n",
        "\n",
        "Після зменшення ваг в 1000 разів, сума втрат значно зменшилась (з ~6.38 до ~0.68), що вказує на покращення роботи моделі. Модель тепер близька до рандомного вгадування (передбачення біля 0.5), але вже не \"зламана\", як було раніше.\n"
      ],
      "metadata": {
        "id": "li7hI_3ljjUr"
      }
    },
    {
      "cell_type": "markdown",
      "source": [
        "6. Напишіть алгоритм градієнтного спуску, який буде навчати модель з використанням написаних раніше функцій і виконуючи оновлення ваг. Алгоритм має включати наступні кроки:\n",
        "\n",
        "  1. Генерація прогнозів\n",
        "  2. Обчислення втрат\n",
        "  3. Обчислення градієнтів (gradients) loss-фукнції відносно ваг і зсувів\n",
        "  4. Налаштування ваг шляхом віднімання невеликої величини, пропорційної градієнту (`learning_rate` домножений на градієнт)\n",
        "  5. Скидання градієнтів на нуль\n",
        "\n",
        "Виконайте градієнтний спуск протягом 1000 епох, обчисліть фінальні передбачення і проаналізуйте, чи вони точні?"
      ],
      "metadata": {
        "id": "RCdi44IT334o"
      }
    },
    {
      "cell_type": "code",
      "source": [
        "# Генеруємо передбачення\n",
        "preds = model(inputs, w, b)\n",
        "print(preds)"
      ],
      "metadata": {
        "colab": {
          "base_uri": "https://localhost:8080/"
        },
        "id": "ZxQs5i_-gDpp",
        "outputId": "c8cad1ff-d0a6-463a-c988-b0e514f76b49"
      },
      "execution_count": 93,
      "outputs": [
        {
          "output_type": "stream",
          "name": "stdout",
          "text": [
            "tensor([[0.5174],\n",
            "        [0.5220],\n",
            "        [0.5244],\n",
            "        [0.5204],\n",
            "        [0.5190]], grad_fn=<MulBackward0>)\n"
          ]
        }
      ]
    },
    {
      "cell_type": "code",
      "source": [
        "# Обчислюємо loss\n",
        "loss = binary_cross_entropy(preds, targets)\n",
        "print(\"Loss:\", loss.item())"
      ],
      "metadata": {
        "colab": {
          "base_uri": "https://localhost:8080/"
        },
        "id": "w_qYfvu6gGbr",
        "outputId": "2b6fb5a4-6de7-4974-ce5e-115cc2a2653a"
      },
      "execution_count": 94,
      "outputs": [
        {
          "output_type": "stream",
          "name": "stdout",
          "text": [
            "Loss: 0.6829456686973572\n"
          ]
        }
      ]
    },
    {
      "cell_type": "code",
      "source": [
        "# Обчислюємо градієнти\n",
        "loss.backward()"
      ],
      "metadata": {
        "id": "ceEhAyFMgJvi"
      },
      "execution_count": 95,
      "outputs": []
    },
    {
      "cell_type": "code",
      "source": [
        "# Оновлюємо ваги і ресетимо градієнти\n",
        "with torch.no_grad():\n",
        "    w -= w.grad * 1e-5\n",
        "    b -= b.grad * 1e-5\n",
        "    w.grad.zero_()\n",
        "    b.grad.zero_()"
      ],
      "metadata": {
        "id": "qodjEYRggOy1"
      },
      "execution_count": 96,
      "outputs": []
    },
    {
      "cell_type": "code",
      "source": [
        "# Вихідні дані та ваги у нас вже є:\n",
        "# inputs, targets, w, b, model(), binary_cross_entropy()\n",
        "\n",
        "# Встановимо кількість епох і швидкість навчання\n",
        "num_epochs = 1000\n",
        "learning_rate = 1e-5\n",
        "\n",
        "for epoch in range(num_epochs):\n",
        "    # Передбачення\n",
        "    y_pred = model(inputs, w, b)\n",
        "\n",
        "    # Обчислення втрат\n",
        "    loss = binary_cross_entropy(y_pred, targets)\n",
        "\n",
        "    # Обчислення градієнтів\n",
        "    loss.backward()\n",
        "\n",
        "    # Оновлення ваг\n",
        "    with torch.no_grad():\n",
        "        w -= learning_rate * w.grad\n",
        "        b -= learning_rate * b.grad\n",
        "\n",
        "    # Обнулення градієнтів\n",
        "    w.grad.zero_()\n",
        "    b.grad.zero_()\n",
        "\n",
        "    # кожні 100 епох виводимо прогрес\n",
        "    if (epoch+1) % 100 == 0:\n",
        "        print(f'Epoch {epoch+1}, Loss: {loss.item():.4f}')"
      ],
      "metadata": {
        "id": "mObHPyE06qsO",
        "colab": {
          "base_uri": "https://localhost:8080/"
        },
        "outputId": "a2c35ea4-12b6-4b34-ad01-10778b1ac8ed"
      },
      "execution_count": 97,
      "outputs": [
        {
          "output_type": "stream",
          "name": "stdout",
          "text": [
            "Epoch 100, Loss: 0.5619\n",
            "Epoch 200, Loss: 0.5066\n",
            "Epoch 300, Loss: 0.4646\n",
            "Epoch 400, Loss: 0.4324\n",
            "Epoch 500, Loss: 0.4071\n",
            "Epoch 600, Loss: 0.3869\n",
            "Epoch 700, Loss: 0.3705\n",
            "Epoch 800, Loss: 0.3569\n",
            "Epoch 900, Loss: 0.3454\n",
            "Epoch 1000, Loss: 0.3357\n"
          ]
        }
      ]
    },
    {
      "cell_type": "code",
      "source": [
        "y_pred"
      ],
      "metadata": {
        "colab": {
          "base_uri": "https://localhost:8080/"
        },
        "id": "In0z4HarnaJb",
        "outputId": "ea3a6575-8afc-409e-dce2-1499542708ec"
      },
      "execution_count": 99,
      "outputs": [
        {
          "output_type": "execute_result",
          "data": {
            "text/plain": [
              "tensor([[0.5777],\n",
              "        [0.6685],\n",
              "        [0.9113],\n",
              "        [0.1616],\n",
              "        [0.8653]], grad_fn=<MulBackward0>)"
            ]
          },
          "metadata": {},
          "execution_count": 99
        }
      ]
    },
    {
      "cell_type": "code",
      "source": [
        "# Округлимо ймовірності, бо нам потрібні класи 0 або 1\n",
        "predicted_classes = (y_pred >= 0.5).float()\n",
        "print(\"Передбачені класи:\\n\", predicted_classes)\n",
        "print(\"Справжні класи (targets):\\n\", targets)"
      ],
      "metadata": {
        "colab": {
          "base_uri": "https://localhost:8080/"
        },
        "id": "KNyh4uMxnh9L",
        "outputId": "21c59f78-c171-40a4-c575-ce1d062fb3d7"
      },
      "execution_count": 100,
      "outputs": [
        {
          "output_type": "stream",
          "name": "stdout",
          "text": [
            "Передбачені класи:\n",
            " tensor([[1.],\n",
            "        [1.],\n",
            "        [1.],\n",
            "        [0.],\n",
            "        [1.]])\n",
            "Справжні класи (targets):\n",
            " tensor([[0.],\n",
            "        [1.],\n",
            "        [1.],\n",
            "        [0.],\n",
            "        [1.]])\n"
          ]
        }
      ]
    },
    {
      "cell_type": "markdown",
      "source": [
        "Ми ініціалізували тренувальний цикл на 1000 епох із маленьким коефіцієнтом навчання (learning_rate = 1e-5). Як бачимо модель правильно класифікувала 4 з 5 прикладів. ТОбто модель навчилася розрізняти більшість прикладів і робить адекватні передбачення."
      ],
      "metadata": {
        "id": "b-5E13MWpY8G"
      }
    },
    {
      "cell_type": "markdown",
      "source": [
        "**Секція 2. Створення лог регресії з використанням функціоналу `torch.nn`.**\n",
        "\n",
        "Давайте повторно реалізуємо ту ж модель, використовуючи деякі вбудовані функції та класи з PyTorch.\n",
        "\n",
        "Даних у нас буде побільше - тож, визначаємо нові масиви."
      ],
      "metadata": {
        "id": "fuRhlyF9qAia"
      }
    },
    {
      "cell_type": "code",
      "source": [
        "# Вхідні дані (temp, rainfall, humidity)\n",
        "inputs = np.array([[73, 67, 43],\n",
        "                   [91, 88, 64],\n",
        "                   [87, 134, 58],\n",
        "                   [102, 43, 37],\n",
        "                   [69, 96, 70],\n",
        "                   [73, 67, 43],\n",
        "                   [91, 88, 64],\n",
        "                   [87, 134, 58],\n",
        "                   [102, 43, 37],\n",
        "                   [69, 96, 70],\n",
        "                   [73, 67, 43],\n",
        "                   [91, 88, 64],\n",
        "                   [87, 134, 58],\n",
        "                   [102, 43, 37],\n",
        "                   [69, 96, 70]], dtype='float32')\n",
        "\n",
        "# Таргети (apples > 80)\n",
        "targets = np.array([[0],\n",
        "                    [1],\n",
        "                    [1],\n",
        "                    [0],\n",
        "                    [1],\n",
        "                    [0],\n",
        "                    [1],\n",
        "                    [1],\n",
        "                    [0],\n",
        "                    [1],\n",
        "                    [0],\n",
        "                    [1],\n",
        "                    [1],\n",
        "                    [0],\n",
        "                    [1]], dtype='float32')"
      ],
      "metadata": {
        "id": "IX8Bhm74rV4M"
      },
      "execution_count": 120,
      "outputs": []
    },
    {
      "cell_type": "markdown",
      "source": [
        "7. Завантажте вхідні дані та мітки в PyTorch тензори та з них створіть датасет, який поєднує вхідні дані з мітками, використовуючи клас `TensorDataset`. Виведіть перші 3 елементи в датасеті.\n",
        "\n"
      ],
      "metadata": {
        "id": "7X2dV30KtAPu"
      }
    },
    {
      "cell_type": "code",
      "source": [
        "from torch.utils.data import TensorDataset, DataLoader"
      ],
      "metadata": {
        "id": "chrvMfBs6vjo"
      },
      "execution_count": 121,
      "outputs": []
    },
    {
      "cell_type": "code",
      "source": [
        "# Перетворення в тензори\n",
        "inputs = torch.from_numpy(inputs)\n",
        "targets = torch.from_numpy(targets)"
      ],
      "metadata": {
        "id": "_znZuNhGpcz2"
      },
      "execution_count": 122,
      "outputs": []
    },
    {
      "cell_type": "code",
      "source": [
        "# Створення датасету\n",
        "train_ds = TensorDataset(inputs, targets)"
      ],
      "metadata": {
        "id": "jKkDE-uQpohY"
      },
      "execution_count": 123,
      "outputs": []
    },
    {
      "cell_type": "code",
      "source": [
        "train_ds[0:3]"
      ],
      "metadata": {
        "colab": {
          "base_uri": "https://localhost:8080/"
        },
        "id": "DYtkIgfirSkQ",
        "outputId": "beb96477-1233-4c0d-db92-c04d398e407a"
      },
      "execution_count": 124,
      "outputs": [
        {
          "output_type": "execute_result",
          "data": {
            "text/plain": [
              "(tensor([[ 73.,  67.,  43.],\n",
              "         [ 91.,  88.,  64.],\n",
              "         [ 87., 134.,  58.]]),\n",
              " tensor([[0.],\n",
              "         [1.],\n",
              "         [1.]]))"
            ]
          },
          "metadata": {},
          "execution_count": 124
        }
      ]
    },
    {
      "cell_type": "markdown",
      "source": [
        "Ми підготували дані для подальшого навчання моделі: конвертували inputs і targets у тензори та створили датасет train_ds за допомогою класу TensorDataset."
      ],
      "metadata": {
        "id": "Yv9XacejqtP7"
      }
    },
    {
      "cell_type": "markdown",
      "source": [
        "8. Визначте data loader з класом **DataLoader** для підготовленого датасету `train_ds`, встановіть розмір батчу на 5 та увімкніть перемішування даних для ефективного навчання моделі. Виведіть перший елемент в дата лоадері."
      ],
      "metadata": {
        "id": "4nMFaa8suOd3"
      }
    },
    {
      "cell_type": "code",
      "source": [
        "from torch.utils.data import DataLoader\n",
        "\n",
        "# Створення DataLoader\n",
        "train_dl = DataLoader(train_ds, batch_size=5, shuffle=True)\n",
        "\n",
        "# Виведення першого батчу\n",
        "for batch in train_dl:\n",
        "    inputs_batch, targets_batch = batch\n",
        "    print(inputs_batch)\n",
        "    print(targets_batch)\n",
        "    break\n"
      ],
      "metadata": {
        "id": "ZCsRo5Mx6wEI",
        "colab": {
          "base_uri": "https://localhost:8080/"
        },
        "outputId": "e67ac1a4-9a85-419c-e1c2-d5abeeb72e8f"
      },
      "execution_count": 107,
      "outputs": [
        {
          "output_type": "stream",
          "name": "stdout",
          "text": [
            "tensor([[ 73.,  67.,  43.],\n",
            "        [ 91.,  88.,  64.],\n",
            "        [102.,  43.,  37.],\n",
            "        [ 69.,  96.,  70.],\n",
            "        [102.,  43.,  37.]])\n",
            "tensor([[0.],\n",
            "        [1.],\n",
            "        [0.],\n",
            "        [1.],\n",
            "        [0.]])\n"
          ]
        }
      ]
    },
    {
      "cell_type": "markdown",
      "source": [
        "Ми підготували механізм для пакетної обробки даних, увімкнули shuffle=True, щоб дані випадково перемішувалися перед кожною епохою навчання, це допоможе уникнути залежності від порядку даних. Дані будуть подаватися в модель невеликими порціями (батчами), що дозволить ефективніше і стабільніше тренувати модель."
      ],
      "metadata": {
        "id": "96bXUdPmrmGF"
      }
    },
    {
      "cell_type": "markdown",
      "source": [
        "9. Створіть клас `LogReg` для логістичної регресії, наслідуючи модуль `torch.nn.Module` за прикладом в лекції (в частині про FeedForward мережі).\n",
        "\n",
        "  У нас модель складається з лінійної комбінації вхідних значень і застосування фукнції сигмоїда. Тож, нейромережа буде складатись з лінійного шару `nn.Linear` і використання активації `nn.Sigmid`. У створеному класі мають бути реалізовані методи `__init__` з ініціалізацією шарів і метод `forward` для виконання прямого проходу моделі через лінійний шар і функцію активації.\n",
        "\n",
        "  Створіть екземпляр класу `LogReg` в змінній `model`."
      ],
      "metadata": {
        "id": "ymcQOo_hum6I"
      }
    },
    {
      "cell_type": "code",
      "source": [
        "import torch.nn as nn\n",
        "\n",
        "# Клас логістичної регресії\n",
        "class LogReg(nn.Module):\n",
        "    def __init__(self):\n",
        "        super(LogReg, self).__init__()\n",
        "        self.linear = nn.Linear(3, 1)  # 3 входи, 1 вихід\n",
        "        self.sigmoid = nn.Sigmoid()    # Сигмоїдна функція активації\n",
        "\n",
        "    def forward(self, x):\n",
        "        out = self.linear(x)\n",
        "        out = self.sigmoid(out)        # Застосування сигмоїди\n",
        "        return out\n"
      ],
      "metadata": {
        "id": "EyAwhTBW6xxz"
      },
      "execution_count": 108,
      "outputs": []
    },
    {
      "cell_type": "code",
      "source": [
        "# Створюємо модель\n",
        "model = LogReg()\n",
        "\n",
        "# Виводимо структуру моделі\n",
        "print(model)"
      ],
      "metadata": {
        "colab": {
          "base_uri": "https://localhost:8080/"
        },
        "id": "Fn5teY_yvBPr",
        "outputId": "bcf4eabd-8b7b-4f6c-fe7a-3b8e877ecd22"
      },
      "execution_count": 109,
      "outputs": [
        {
          "output_type": "stream",
          "name": "stdout",
          "text": [
            "LogReg(\n",
            "  (linear): Linear(in_features=3, out_features=1, bias=True)\n",
            "  (sigmoid): Sigmoid()\n",
            ")\n"
          ]
        }
      ]
    },
    {
      "cell_type": "markdown",
      "source": [
        "Ми створили клас LogReg, який наслідує властивості класу nn.Module.\n",
        "\n",
        "В конструкторі __init__ ми визначили два шари:\n",
        "\n",
        "self.linear — лінійний шар, який приймає на вхід 3 характеристики й видає одне значення.\n",
        "\n",
        "self.sigmoid — сигмоїдна функція активації, яка перетворює вихід у значення в межах від 0 до 1.\n",
        "\n",
        "У методі forward ми описали, що вхідні дані спочатку проходять через лінійний шар, а потім через сигмоїду для отримання ймовірності належності до класу.\n",
        "\n",
        "Ми створили екземпляр класу LogReg в змінній model.\n"
      ],
      "metadata": {
        "id": "KrZs7fhMsrhE"
      }
    },
    {
      "cell_type": "markdown",
      "source": [
        "10. Задайте оптимізатор `Stockastic Gradient Descent` в змінній `opt` для навчання моделі логістичної регресії. А також визначіть в змінній `loss` функцію втрат `binary_cross_entropy` з модуля `torch.nn.functional` для обчислення втрат моделі. Обчисліть втрати для поточних передбачень і міток, а потім виведіть їх. Зробіть висновок, чи моделі вдалось навчитись?"
      ],
      "metadata": {
        "id": "RflV7xeVyoJy"
      }
    },
    {
      "cell_type": "code",
      "source": [
        "import torch.optim as optim\n",
        "import torch.nn.functional as F\n",
        "\n",
        "# Оптимізатор\n",
        "opt = optim.SGD(model.parameters(), lr=1e-5)\n"
      ],
      "metadata": {
        "id": "3QCATPU_6yfa"
      },
      "execution_count": 110,
      "outputs": []
    },
    {
      "cell_type": "code",
      "source": [
        "# Функція втрат\n",
        "loss_fn = F.binary_cross_entropy\n",
        "\n",
        "# Обчислення втрат\n",
        "loss = loss_fn(model(inputs), targets)\n",
        "\n",
        "print(loss)\n"
      ],
      "metadata": {
        "colab": {
          "base_uri": "https://localhost:8080/"
        },
        "id": "P_OjZdI5wssj",
        "outputId": "b941c971-2f91-43f8-fc0a-ab74276d85ad"
      },
      "execution_count": 111,
      "outputs": [
        {
          "output_type": "stream",
          "name": "stdout",
          "text": [
            "tensor(7.6312, grad_fn=<BinaryCrossEntropyBackward0>)\n"
          ]
        }
      ]
    },
    {
      "cell_type": "markdown",
      "source": [
        "Сума втрат 7.6312 є досить високою, що вказує на те, що модель ще не навилась добре. Модель передбачає результати, які значно відрізняються від істинних міток."
      ],
      "metadata": {
        "id": "47k1wkLkwVFi"
      }
    },
    {
      "cell_type": "markdown",
      "source": [
        "11. Візьміть з лекції функцію для тренування моделі з відстеженням значень втрат і навчіть щойно визначену модель на 1000 епохах. Виведіть після цього графік зміни loss, фінальні передбачення і значення таргетів."
      ],
      "metadata": {
        "id": "ch-WrYnKzMzq"
      }
    },
    {
      "cell_type": "code",
      "source": [
        "def fit_return_loss(num_epochs, model, loss_fn, opt, train_dl):\n",
        "    losses = []\n",
        "    for epoch in range(num_epochs):\n",
        "        # Ініціалізуємо акумулятор для втрат\n",
        "        total_loss = 0\n",
        "\n",
        "        for xb, yb in train_dl:\n",
        "            # Генеруємо передбачення\n",
        "            pred = model(xb)\n",
        "\n",
        "            # Обчислюємо втрати\n",
        "            loss = loss_fn(pred, yb)\n",
        "\n",
        "            # Виконуємо градієнтний спуск\n",
        "            loss.backward()\n",
        "            opt.step()\n",
        "            opt.zero_grad()\n",
        "\n",
        "            # Накопичуємо втрати\n",
        "            total_loss += loss.item()\n",
        "\n",
        "        # Обчислюємо середні втрати для епохи\n",
        "        avg_loss = total_loss / len(train_dl)\n",
        "        losses.append(avg_loss)\n",
        "\n",
        "        # Виводимо підсумок епохи\n",
        "        if (epoch + 1) % 10 == 0:\n",
        "          print(f'Epoch [{epoch+1}/{num_epochs}], Loss: {avg_loss:.4f}')\n",
        "    return losses"
      ],
      "metadata": {
        "id": "cEHQH9qE626k"
      },
      "execution_count": 112,
      "outputs": []
    },
    {
      "cell_type": "code",
      "source": [
        "import matplotlib.pyplot as plt\n",
        "\n",
        "# Навчання моделі\n",
        "num_epochs = 1000\n",
        "losses = fit_return_loss(num_epochs, model, loss_fn, opt, train_dl)\n"
      ],
      "metadata": {
        "colab": {
          "base_uri": "https://localhost:8080/"
        },
        "id": "hqP8JXj_zTJN",
        "outputId": "0d529f53-eade-43b8-d52e-a1a597f11779"
      },
      "execution_count": 113,
      "outputs": [
        {
          "output_type": "stream",
          "name": "stdout",
          "text": [
            "Epoch [10/1000], Loss: 6.6400\n",
            "Epoch [20/1000], Loss: 6.0483\n",
            "Epoch [30/1000], Loss: 5.7263\n",
            "Epoch [40/1000], Loss: 5.4710\n",
            "Epoch [50/1000], Loss: 5.2474\n",
            "Epoch [60/1000], Loss: 5.0653\n",
            "Epoch [70/1000], Loss: 4.8974\n",
            "Epoch [80/1000], Loss: 4.7861\n",
            "Epoch [90/1000], Loss: 4.6903\n",
            "Epoch [100/1000], Loss: 4.5353\n",
            "Epoch [110/1000], Loss: 4.4753\n",
            "Epoch [120/1000], Loss: 4.3686\n",
            "Epoch [130/1000], Loss: 4.2792\n",
            "Epoch [140/1000], Loss: 4.2018\n",
            "Epoch [150/1000], Loss: 4.1132\n",
            "Epoch [160/1000], Loss: 4.0389\n",
            "Epoch [170/1000], Loss: 3.9423\n",
            "Epoch [180/1000], Loss: 3.8701\n",
            "Epoch [190/1000], Loss: 3.7756\n",
            "Epoch [200/1000], Loss: 3.6974\n",
            "Epoch [210/1000], Loss: 3.6101\n",
            "Epoch [220/1000], Loss: 3.5297\n",
            "Epoch [230/1000], Loss: 3.4427\n",
            "Epoch [240/1000], Loss: 3.3760\n",
            "Epoch [250/1000], Loss: 3.2822\n",
            "Epoch [260/1000], Loss: 3.1985\n",
            "Epoch [270/1000], Loss: 3.1111\n",
            "Epoch [280/1000], Loss: 3.0308\n",
            "Epoch [290/1000], Loss: 2.9483\n",
            "Epoch [300/1000], Loss: 2.8748\n",
            "Epoch [310/1000], Loss: 2.7879\n",
            "Epoch [320/1000], Loss: 2.7048\n",
            "Epoch [330/1000], Loss: 2.6292\n",
            "Epoch [340/1000], Loss: 2.5456\n",
            "Epoch [350/1000], Loss: 2.4710\n",
            "Epoch [360/1000], Loss: 2.4122\n",
            "Epoch [370/1000], Loss: 2.3102\n",
            "Epoch [380/1000], Loss: 2.2363\n",
            "Epoch [390/1000], Loss: 2.1587\n",
            "Epoch [400/1000], Loss: 2.0854\n",
            "Epoch [410/1000], Loss: 2.0062\n",
            "Epoch [420/1000], Loss: 1.9342\n",
            "Epoch [430/1000], Loss: 1.8632\n",
            "Epoch [440/1000], Loss: 1.7922\n",
            "Epoch [450/1000], Loss: 1.7232\n",
            "Epoch [460/1000], Loss: 1.6485\n",
            "Epoch [470/1000], Loss: 1.5853\n",
            "Epoch [480/1000], Loss: 1.5150\n",
            "Epoch [490/1000], Loss: 1.4520\n",
            "Epoch [500/1000], Loss: 1.3831\n",
            "Epoch [510/1000], Loss: 1.3171\n",
            "Epoch [520/1000], Loss: 1.2595\n",
            "Epoch [530/1000], Loss: 1.2084\n",
            "Epoch [540/1000], Loss: 1.1388\n",
            "Epoch [550/1000], Loss: 1.0851\n",
            "Epoch [560/1000], Loss: 1.0415\n",
            "Epoch [570/1000], Loss: 0.9843\n",
            "Epoch [580/1000], Loss: 0.9393\n",
            "Epoch [590/1000], Loss: 0.8865\n",
            "Epoch [600/1000], Loss: 0.8436\n",
            "Epoch [610/1000], Loss: 0.8030\n",
            "Epoch [620/1000], Loss: 0.7632\n",
            "Epoch [630/1000], Loss: 0.7308\n",
            "Epoch [640/1000], Loss: 0.7033\n",
            "Epoch [650/1000], Loss: 0.6679\n",
            "Epoch [660/1000], Loss: 0.6437\n",
            "Epoch [670/1000], Loss: 0.6134\n",
            "Epoch [680/1000], Loss: 0.5918\n",
            "Epoch [690/1000], Loss: 0.5703\n",
            "Epoch [700/1000], Loss: 0.5492\n",
            "Epoch [710/1000], Loss: 0.5325\n",
            "Epoch [720/1000], Loss: 0.5149\n",
            "Epoch [730/1000], Loss: 0.5012\n",
            "Epoch [740/1000], Loss: 0.4870\n",
            "Epoch [750/1000], Loss: 0.4743\n",
            "Epoch [760/1000], Loss: 0.4654\n",
            "Epoch [770/1000], Loss: 0.4552\n",
            "Epoch [780/1000], Loss: 0.4421\n",
            "Epoch [790/1000], Loss: 0.4315\n",
            "Epoch [800/1000], Loss: 0.4263\n",
            "Epoch [810/1000], Loss: 0.4149\n",
            "Epoch [820/1000], Loss: 0.4085\n",
            "Epoch [830/1000], Loss: 0.4013\n",
            "Epoch [840/1000], Loss: 0.3940\n",
            "Epoch [850/1000], Loss: 0.3883\n",
            "Epoch [860/1000], Loss: 0.3829\n",
            "Epoch [870/1000], Loss: 0.3770\n",
            "Epoch [880/1000], Loss: 0.3719\n",
            "Epoch [890/1000], Loss: 0.3672\n",
            "Epoch [900/1000], Loss: 0.3627\n",
            "Epoch [910/1000], Loss: 0.3587\n",
            "Epoch [920/1000], Loss: 0.3549\n",
            "Epoch [930/1000], Loss: 0.3522\n",
            "Epoch [940/1000], Loss: 0.3474\n",
            "Epoch [950/1000], Loss: 0.3445\n",
            "Epoch [960/1000], Loss: 0.3411\n",
            "Epoch [970/1000], Loss: 0.3395\n",
            "Epoch [980/1000], Loss: 0.3350\n",
            "Epoch [990/1000], Loss: 0.3319\n",
            "Epoch [1000/1000], Loss: 0.3297\n"
          ]
        }
      ]
    },
    {
      "cell_type": "markdown",
      "source": [
        "На початку тренування сума втрат висока, але поступово зменшується, що свідчить про поступове покращення моделі."
      ],
      "metadata": {
        "id": "_DQzBaqyxWjv"
      }
    },
    {
      "cell_type": "code",
      "source": [
        "# Побудова графіку втрат\n",
        "plt.plot(losses)\n",
        "plt.xlabel('Epoch')\n",
        "plt.ylabel('Loss')\n",
        "plt.title('Зміна втрат під час тренування')\n",
        "plt.show()"
      ],
      "metadata": {
        "colab": {
          "base_uri": "https://localhost:8080/",
          "height": 472
        },
        "id": "ToTqI4Ms0qIK",
        "outputId": "ae1d88dc-4fce-4403-81c2-15793734103a"
      },
      "execution_count": 114,
      "outputs": [
        {
          "output_type": "display_data",
          "data": {
            "text/plain": [
              "<Figure size 640x480 with 1 Axes>"
            ],
            "image/png": "[encoded data removed]"
          },
          "metadata": {}
        }
      ]
    },
    {
      "cell_type": "markdown",
      "source": [
        "На графіку ми можемо візуально побачити зміну суми втрат протягом тренування. Модель стабільно зменшує втрати під час навчання і після 900 епохи починає виходити на плато."
      ],
      "metadata": {
        "id": "AHbFKN-Ax8Mv"
      }
    },
    {
      "cell_type": "code",
      "source": [
        "# Фінальні передбачення\n",
        "preds = model(inputs)\n",
        "print(\"\\nПередбачення:\\n\", preds.detach())\n",
        "print(\"\\nТаргети:\\n\", targets)"
      ],
      "metadata": {
        "colab": {
          "base_uri": "https://localhost:8080/"
        },
        "id": "npMyhDHs0Y6Z",
        "outputId": "8d91d16c-43a0-4250-b885-f65b4394d4c0"
      },
      "execution_count": 115,
      "outputs": [
        {
          "output_type": "stream",
          "name": "stdout",
          "text": [
            "\n",
            "Передбачення:\n",
            " tensor([[0.5729],\n",
            "        [0.6791],\n",
            "        [0.9026],\n",
            "        [0.1569],\n",
            "        [0.8761],\n",
            "        [0.5729],\n",
            "        [0.6791],\n",
            "        [0.9026],\n",
            "        [0.1569],\n",
            "        [0.8761],\n",
            "        [0.5729],\n",
            "        [0.6791],\n",
            "        [0.9026],\n",
            "        [0.1569],\n",
            "        [0.8761]])\n",
            "\n",
            "Таргети:\n",
            " tensor([[0.],\n",
            "        [1.],\n",
            "        [1.],\n",
            "        [0.],\n",
            "        [1.],\n",
            "        [0.],\n",
            "        [1.],\n",
            "        [1.],\n",
            "        [0.],\n",
            "        [1.],\n",
            "        [0.],\n",
            "        [1.],\n",
            "        [1.],\n",
            "        [0.],\n",
            "        [1.]])\n"
          ]
        }
      ]
    },
    {
      "cell_type": "code",
      "source": [
        "# Округлимо ймовірності, бо нам потрібні класи 0 або 1\n",
        "y_pred_class = (preds >= 0.5).float()\n",
        "print(\"Передбачені класи:\\n\", y_pred_class)\n",
        "print(\"Справжні класи (targets):\\n\", targets)"
      ],
      "metadata": {
        "colab": {
          "base_uri": "https://localhost:8080/"
        },
        "id": "iNB_g2JB2xmm",
        "outputId": "c7f392b5-c155-4613-d9ac-a1d25b247fc9"
      },
      "execution_count": 116,
      "outputs": [
        {
          "output_type": "stream",
          "name": "stdout",
          "text": [
            "Передбачені класи:\n",
            " tensor([[1.],\n",
            "        [1.],\n",
            "        [1.],\n",
            "        [0.],\n",
            "        [1.],\n",
            "        [1.],\n",
            "        [1.],\n",
            "        [1.],\n",
            "        [0.],\n",
            "        [1.],\n",
            "        [1.],\n",
            "        [1.],\n",
            "        [1.],\n",
            "        [0.],\n",
            "        [1.]])\n",
            "Справжні класи (targets):\n",
            " tensor([[0.],\n",
            "        [1.],\n",
            "        [1.],\n",
            "        [0.],\n",
            "        [1.],\n",
            "        [0.],\n",
            "        [1.],\n",
            "        [1.],\n",
            "        [0.],\n",
            "        [1.],\n",
            "        [0.],\n",
            "        [1.],\n",
            "        [1.],\n",
            "        [0.],\n",
            "        [1.]])\n"
          ]
        }
      ]
    },
    {
      "cell_type": "code",
      "source": [
        "from sklearn.metrics import confusion_matrix\n",
        "\n",
        "# Confusion Matrix\n",
        "conf_matrix = confusion_matrix(targets, y_pred_class)\n",
        "print(\"Confusion Matrix:\\n\", conf_matrix)\n"
      ],
      "metadata": {
        "colab": {
          "base_uri": "https://localhost:8080/"
        },
        "id": "xTzBWYQq30Gx",
        "outputId": "dbc5a40f-6e9b-4226-c902-e3ed034d3d01"
      },
      "execution_count": 125,
      "outputs": [
        {
          "output_type": "stream",
          "name": "stdout",
          "text": [
            "Confusion Matrix:\n",
            " [[3 3]\n",
            " [0 9]]\n"
          ]
        }
      ]
    },
    {
      "cell_type": "markdown",
      "source": [
        "З початкових 6.64 на 10-й епосі, до кінця тренування сума втрат знизилася до 0.3297. Це свідчить про те, що модель навчалася і з кожною ітерацією покращувала свої передбачення.\n",
        "\n",
        "Модель показала досить хороші результати, однак є деякі помилки: 3 приклади класу 0 модель помилково класифікувала як клас 1. З іншого боку, жоден приклад класу 1 не був помилково класифікований як клас 0.\n"
      ],
      "metadata": {
        "id": "i2JeAFNlz5yk"
      }
    }
  ]
}