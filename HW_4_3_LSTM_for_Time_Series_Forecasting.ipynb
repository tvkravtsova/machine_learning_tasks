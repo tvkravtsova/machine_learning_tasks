{
  "nbformat": 4,
  "nbformat_minor": 0,
  "metadata": {
    "colab": {
      "provenance": []
    },
    "kernelspec": {
      "name": "python3",
      "display_name": "Python 3"
    },
    "language_info": {
      "name": "python"
    }
  },
  "cells": [
    {
      "cell_type": "markdown",
      "source": [
        "Давайте подивимося, як LSTM можна використовувати для побудови нейронної мережі прогнозування часових.\n",
        "\n",
        "Будемо працювати з задачею прогнозування кількості пасажирів міжнародних авіаліній. З цим набором даних ми вже працювали в лекції \"Time Series Analysis\" і ви зможете порівняти результати :)\n",
        "\n",
        "Задача полягає в тому, щоб за заданими роком і місяцем передбачити кількість пасажирів міжнародних авіаліній в одиницях виміру 1,000. Дані охоплюють період з січня 1949 року по грудень 1960 року, тобто 12 років, зі 144 спостереженнями.\n",
        "\n",
        "Це регресійна задача. Тобто, знаючи кількість пасажирів (в тисячах) за останні місяці, можна передбачити, якою буде кількість пасажирів у наступному місяці. Набір даних має лише одну характеристику: \"Кількість пасажирів\" - `Passengers`.\n",
        "\n",
        "Далі вже наведений код для читання даних, але нам їх ще треба буде трошки обробити."
      ],
      "metadata": {
        "id": "QVNVsLwJvV9S"
      }
    },
    {
      "cell_type": "code",
      "execution_count": 294,
      "metadata": {
        "id": "hw3dGYsyluYm",
        "colab": {
          "base_uri": "https://localhost:8080/",
          "height": 708
        },
        "outputId": "21eb2420-d920-4cf8-866b-d4d1db51ef90"
      },
      "outputs": [
        {
          "output_type": "display_data",
          "data": {
            "text/plain": [
              "         Passengers\n",
              "Month              \n",
              "1949-01         112\n",
              "1949-02         118\n",
              "1949-03         132\n",
              "1949-04         129\n",
              "1949-05         121\n",
              "1949-06         135\n",
              "1949-07         148\n",
              "1949-08         148\n",
              "1949-09         136\n",
              "1949-10         119\n",
              "1949-11         104\n",
              "1949-12         118\n",
              "1950-01         115\n",
              "1950-02         126\n",
              "1950-03         141\n",
              "1950-04         135\n",
              "1950-05         125\n",
              "1950-06         149\n",
              "1950-07         170\n",
              "1950-08         170"
            ],
            "text/html": [
              "\n",
              "  <div id=\"df-2c280ce8-8e88-44bd-b87e-d8f0b22235a7\" class=\"colab-df-container\">\n",
              "    <div>\n",
              "<style scoped>\n",
              "    .dataframe tbody tr th:only-of-type {\n",
              "        vertical-align: middle;\n",
              "    }\n",
              "\n",
              "    .dataframe tbody tr th {\n",
              "        vertical-align: top;\n",
              "    }\n",
              "\n",
              "    .dataframe thead th {\n",
              "        text-align: right;\n",
              "    }\n",
              "</style>\n",
              "<table border=\"1\" class=\"dataframe\">\n",
              "  <thead>\n",
              "    <tr style=\"text-align: right;\">\n",
              "      <th></th>\n",
              "      <th>Passengers</th>\n",
              "    </tr>\n",
              "    <tr>\n",
              "      <th>Month</th>\n",
              "      <th></th>\n",
              "    </tr>\n",
              "  </thead>\n",
              "  <tbody>\n",
              "    <tr>\n",
              "      <th>1949-01</th>\n",
              "      <td>112</td>\n",
              "    </tr>\n",
              "    <tr>\n",
              "      <th>1949-02</th>\n",
              "      <td>118</td>\n",
              "    </tr>\n",
              "    <tr>\n",
              "      <th>1949-03</th>\n",
              "      <td>132</td>\n",
              "    </tr>\n",
              "    <tr>\n",
              "      <th>1949-04</th>\n",
              "      <td>129</td>\n",
              "    </tr>\n",
              "    <tr>\n",
              "      <th>1949-05</th>\n",
              "      <td>121</td>\n",
              "    </tr>\n",
              "    <tr>\n",
              "      <th>1949-06</th>\n",
              "      <td>135</td>\n",
              "    </tr>\n",
              "    <tr>\n",
              "      <th>1949-07</th>\n",
              "      <td>148</td>\n",
              "    </tr>\n",
              "    <tr>\n",
              "      <th>1949-08</th>\n",
              "      <td>148</td>\n",
              "    </tr>\n",
              "    <tr>\n",
              "      <th>1949-09</th>\n",
              "      <td>136</td>\n",
              "    </tr>\n",
              "    <tr>\n",
              "      <th>1949-10</th>\n",
              "      <td>119</td>\n",
              "    </tr>\n",
              "    <tr>\n",
              "      <th>1949-11</th>\n",
              "      <td>104</td>\n",
              "    </tr>\n",
              "    <tr>\n",
              "      <th>1949-12</th>\n",
              "      <td>118</td>\n",
              "    </tr>\n",
              "    <tr>\n",
              "      <th>1950-01</th>\n",
              "      <td>115</td>\n",
              "    </tr>\n",
              "    <tr>\n",
              "      <th>1950-02</th>\n",
              "      <td>126</td>\n",
              "    </tr>\n",
              "    <tr>\n",
              "      <th>1950-03</th>\n",
              "      <td>141</td>\n",
              "    </tr>\n",
              "    <tr>\n",
              "      <th>1950-04</th>\n",
              "      <td>135</td>\n",
              "    </tr>\n",
              "    <tr>\n",
              "      <th>1950-05</th>\n",
              "      <td>125</td>\n",
              "    </tr>\n",
              "    <tr>\n",
              "      <th>1950-06</th>\n",
              "      <td>149</td>\n",
              "    </tr>\n",
              "    <tr>\n",
              "      <th>1950-07</th>\n",
              "      <td>170</td>\n",
              "    </tr>\n",
              "    <tr>\n",
              "      <th>1950-08</th>\n",
              "      <td>170</td>\n",
              "    </tr>\n",
              "  </tbody>\n",
              "</table>\n",
              "</div>\n",
              "    <div class=\"colab-df-buttons\">\n",
              "\n",
              "  <div class=\"colab-df-container\">\n",
              "    <button class=\"colab-df-convert\" onclick=\"convertToInteractive('df-2c280ce8-8e88-44bd-b87e-d8f0b22235a7')\"\n",
              "            title=\"Convert this dataframe to an interactive table.\"\n",
              "            style=\"display:none;\">\n",
              "\n",
              "  <svg xmlns=\"http://www.w3.org/2000/svg\" height=\"24px\" viewBox=\"0 -960 960 960\">\n",
              "    <path d=\"M120-120v-720h720v720H120Zm60-500h600v-160H180v160Zm220 220h160v-160H400v160Zm0 220h160v-160H400v160ZM180-400h160v-160H180v160Zm440 0h160v-160H620v160ZM180-180h160v-160H180v160Zm440 0h160v-160H620v160Z\"/>\n",
              "  </svg>\n",
              "    </button>\n",
              "\n",
              "  <style>\n",
              "    .colab-df-container {\n",
              "      display:flex;\n",
              "      gap: 12px;\n",
              "    }\n",
              "\n",
              "    .colab-df-convert {\n",
              "      background-color: #E8F0FE;\n",
              "      border: none;\n",
              "      border-radius: 50%;\n",
              "      cursor: pointer;\n",
              "      display: none;\n",
              "      fill: #1967D2;\n",
              "      height: 32px;\n",
              "      padding: 0 0 0 0;\n",
              "      width: 32px;\n",
              "    }\n",
              "\n",
              "    .colab-df-convert:hover {\n",
              "      background-color: #E2EBFA;\n",
              "      box-shadow: 0px 1px 2px rgba(60, 64, 67, 0.3), 0px 1px 3px 1px rgba(60, 64, 67, 0.15);\n",
              "      fill: #174EA6;\n",
              "    }\n",
              "\n",
              "    .colab-df-buttons div {\n",
              "      margin-bottom: 4px;\n",
              "    }\n",
              "\n",
              "    [theme=dark] .colab-df-convert {\n",
              "      background-color: #3B4455;\n",
              "      fill: #D2E3FC;\n",
              "    }\n",
              "\n",
              "    [theme=dark] .colab-df-convert:hover {\n",
              "      background-color: #434B5C;\n",
              "      box-shadow: 0px 1px 3px 1px rgba(0, 0, 0, 0.15);\n",
              "      filter: drop-shadow(0px 1px 2px rgba(0, 0, 0, 0.3));\n",
              "      fill: #FFFFFF;\n",
              "    }\n",
              "  </style>\n",
              "\n",
              "    <script>\n",
              "      const buttonEl =\n",
              "        document.querySelector('#df-2c280ce8-8e88-44bd-b87e-d8f0b22235a7 button.colab-df-convert');\n",
              "      buttonEl.style.display =\n",
              "        google.colab.kernel.accessAllowed ? 'block' : 'none';\n",
              "\n",
              "      async function convertToInteractive(key) {\n",
              "        const element = document.querySelector('#df-2c280ce8-8e88-44bd-b87e-d8f0b22235a7');\n",
              "        const dataTable =\n",
              "          await google.colab.kernel.invokeFunction('convertToInteractive',\n",
              "                                                    [key], {});\n",
              "        if (!dataTable) return;\n",
              "\n",
              "        const docLinkHtml = 'Like what you see? Visit the ' +\n",
              "          '<a target=\"_blank\" href=https://colab.research.google.com/notebooks/data_table.ipynb>data table notebook</a>'\n",
              "          + ' to learn more about interactive tables.';\n",
              "        element.innerHTML = '';\n",
              "        dataTable['output_type'] = 'display_data';\n",
              "        await google.colab.output.renderOutput(dataTable, element);\n",
              "        const docLink = document.createElement('div');\n",
              "        docLink.innerHTML = docLinkHtml;\n",
              "        element.appendChild(docLink);\n",
              "      }\n",
              "    </script>\n",
              "  </div>\n",
              "\n",
              "\n",
              "    <div id=\"df-0be58fc1-9a9d-4500-91cd-8b3440d3e3bd\">\n",
              "      <button class=\"colab-df-quickchart\" onclick=\"quickchart('df-0be58fc1-9a9d-4500-91cd-8b3440d3e3bd')\"\n",
              "                title=\"Suggest charts\"\n",
              "                style=\"display:none;\">\n",
              "\n",
              "<svg xmlns=\"http://www.w3.org/2000/svg\" height=\"24px\"viewBox=\"0 0 24 24\"\n",
              "     width=\"24px\">\n",
              "    <g>\n",
              "        <path d=\"M19 3H5c-1.1 0-2 .9-2 2v14c0 1.1.9 2 2 2h14c1.1 0 2-.9 2-2V5c0-1.1-.9-2-2-2zM9 17H7v-7h2v7zm4 0h-2V7h2v10zm4 0h-2v-4h2v4z\"/>\n",
              "    </g>\n",
              "</svg>\n",
              "      </button>\n",
              "\n",
              "<style>\n",
              "  .colab-df-quickchart {\n",
              "      --bg-color: #E8F0FE;\n",
              "      --fill-color: #1967D2;\n",
              "      --hover-bg-color: #E2EBFA;\n",
              "      --hover-fill-color: #174EA6;\n",
              "      --disabled-fill-color: #AAA;\n",
              "      --disabled-bg-color: #DDD;\n",
              "  }\n",
              "\n",
              "  [theme=dark] .colab-df-quickchart {\n",
              "      --bg-color: #3B4455;\n",
              "      --fill-color: #D2E3FC;\n",
              "      --hover-bg-color: #434B5C;\n",
              "      --hover-fill-color: #FFFFFF;\n",
              "      --disabled-bg-color: #3B4455;\n",
              "      --disabled-fill-color: #666;\n",
              "  }\n",
              "\n",
              "  .colab-df-quickchart {\n",
              "    background-color: var(--bg-color);\n",
              "    border: none;\n",
              "    border-radius: 50%;\n",
              "    cursor: pointer;\n",
              "    display: none;\n",
              "    fill: var(--fill-color);\n",
              "    height: 32px;\n",
              "    padding: 0;\n",
              "    width: 32px;\n",
              "  }\n",
              "\n",
              "  .colab-df-quickchart:hover {\n",
              "    background-color: var(--hover-bg-color);\n",
              "    box-shadow: 0 1px 2px rgba(60, 64, 67, 0.3), 0 1px 3px 1px rgba(60, 64, 67, 0.15);\n",
              "    fill: var(--button-hover-fill-color);\n",
              "  }\n",
              "\n",
              "  .colab-df-quickchart-complete:disabled,\n",
              "  .colab-df-quickchart-complete:disabled:hover {\n",
              "    background-color: var(--disabled-bg-color);\n",
              "    fill: var(--disabled-fill-color);\n",
              "    box-shadow: none;\n",
              "  }\n",
              "\n",
              "  .colab-df-spinner {\n",
              "    border: 2px solid var(--fill-color);\n",
              "    border-color: transparent;\n",
              "    border-bottom-color: var(--fill-color);\n",
              "    animation:\n",
              "      spin 1s steps(1) infinite;\n",
              "  }\n",
              "\n",
              "  @keyframes spin {\n",
              "    0% {\n",
              "      border-color: transparent;\n",
              "      border-bottom-color: var(--fill-color);\n",
              "      border-left-color: var(--fill-color);\n",
              "    }\n",
              "    20% {\n",
              "      border-color: transparent;\n",
              "      border-left-color: var(--fill-color);\n",
              "      border-top-color: var(--fill-color);\n",
              "    }\n",
              "    30% {\n",
              "      border-color: transparent;\n",
              "      border-left-color: var(--fill-color);\n",
              "      border-top-color: var(--fill-color);\n",
              "      border-right-color: var(--fill-color);\n",
              "    }\n",
              "    40% {\n",
              "      border-color: transparent;\n",
              "      border-right-color: var(--fill-color);\n",
              "      border-top-color: var(--fill-color);\n",
              "    }\n",
              "    60% {\n",
              "      border-color: transparent;\n",
              "      border-right-color: var(--fill-color);\n",
              "    }\n",
              "    80% {\n",
              "      border-color: transparent;\n",
              "      border-right-color: var(--fill-color);\n",
              "      border-bottom-color: var(--fill-color);\n",
              "    }\n",
              "    90% {\n",
              "      border-color: transparent;\n",
              "      border-bottom-color: var(--fill-color);\n",
              "    }\n",
              "  }\n",
              "</style>\n",
              "\n",
              "      <script>\n",
              "        async function quickchart(key) {\n",
              "          const quickchartButtonEl =\n",
              "            document.querySelector('#' + key + ' button');\n",
              "          quickchartButtonEl.disabled = true;  // To prevent multiple clicks.\n",
              "          quickchartButtonEl.classList.add('colab-df-spinner');\n",
              "          try {\n",
              "            const charts = await google.colab.kernel.invokeFunction(\n",
              "                'suggestCharts', [key], {});\n",
              "          } catch (error) {\n",
              "            console.error('Error during call to suggestCharts:', error);\n",
              "          }\n",
              "          quickchartButtonEl.classList.remove('colab-df-spinner');\n",
              "          quickchartButtonEl.classList.add('colab-df-quickchart-complete');\n",
              "        }\n",
              "        (() => {\n",
              "          let quickchartButtonEl =\n",
              "            document.querySelector('#df-0be58fc1-9a9d-4500-91cd-8b3440d3e3bd button');\n",
              "          quickchartButtonEl.style.display =\n",
              "            google.colab.kernel.accessAllowed ? 'block' : 'none';\n",
              "        })();\n",
              "      </script>\n",
              "    </div>\n",
              "\n",
              "    </div>\n",
              "  </div>\n"
            ],
            "application/vnd.google.colaboratory.intrinsic+json": {
              "type": "dataframe",
              "summary": "{\n  \"name\": \"display(df\",\n  \"rows\": 20,\n  \"fields\": [\n    {\n      \"column\": \"Month\",\n      \"properties\": {\n        \"dtype\": \"object\",\n        \"num_unique_values\": 20,\n        \"samples\": [\n          \"1949-01\",\n          \"1950-06\",\n          \"1950-04\"\n        ],\n        \"semantic_type\": \"\",\n        \"description\": \"\"\n      }\n    },\n    {\n      \"column\": \"Passengers\",\n      \"properties\": {\n        \"dtype\": \"number\",\n        \"std\": 17,\n        \"min\": 104,\n        \"max\": 170,\n        \"num_unique_values\": 16,\n        \"samples\": [\n          112,\n          118,\n          135\n        ],\n        \"semantic_type\": \"\",\n        \"description\": \"\"\n      }\n    }\n  ]\n}"
            }
          },
          "metadata": {}
        }
      ],
      "source": [
        "import pandas as pd\n",
        "import numpy as np\n",
        "from matplotlib import pyplot as plt\n",
        "\n",
        "# Завантаження даних\n",
        "url = \"https://raw.githubusercontent.com/jbrownlee/Datasets/master/airline-passengers.csv\"\n",
        "df = pd.read_csv(url)\n",
        "df.set_index('Month', inplace=True)\n",
        "display(df.head(20))"
      ]
    },
    {
      "cell_type": "markdown",
      "source": [
        "**Завдання 1.** Створіть змінну типу `numpy.ndarray`, яка містить значення кількості пасажирів в форматі `float32`. Такий формат даних нам треба для тренування нейромережі."
      ],
      "metadata": {
        "id": "BCcNvF28wSH3"
      }
    },
    {
      "cell_type": "code",
      "source": [
        "# Створення змінної типу numpy.ndarray з кількості пасажирів у форматі float32\n",
        "passengers = df['Passengers'].values.astype(np.float32)\n",
        "\n",
        "# Перевіримо результат\n",
        "print(passengers[:5])\n",
        "print(type(passengers), passengers.dtype)"
      ],
      "metadata": {
        "id": "7PcJkPAoBOH5",
        "colab": {
          "base_uri": "https://localhost:8080/"
        },
        "outputId": "fb657ab2-f63d-454d-ea93-aadd5f0dcbad"
      },
      "execution_count": 295,
      "outputs": [
        {
          "output_type": "stream",
          "name": "stdout",
          "text": [
            "[112. 118. 132. 129. 121.]\n",
            "<class 'numpy.ndarray'> float32\n"
          ]
        }
      ]
    },
    {
      "cell_type": "markdown",
      "source": [
        "Очікуваний результат:\n",
        "```array([112., 118., 132., 129., 121.], dtype=float32)```"
      ],
      "metadata": {
        "id": "Vms2Pxp1xCrB"
      }
    },
    {
      "cell_type": "markdown",
      "source": [
        "**Завдання 2**. Розбийте дані на тренувальні і валідаційні у співвідношенні 67% йде у тренування, 33 - у валідацію. Памʼятаємо, що ми працюємо з tim series, відповідно, навчаємось на давніших, валідуємось - на новіших."
      ],
      "metadata": {
        "id": "vESTxq-OxLRK"
      }
    },
    {
      "cell_type": "code",
      "source": [
        "# Кількість екземплярів у всьому наборі\n",
        "n_samples = len(passengers)\n",
        "\n",
        "# Тренувальні дані 67%\n",
        "train_size = int(n_samples * 0.67)\n",
        "\n",
        "# Розбиття даних\n",
        "train = passengers[:train_size]\n",
        "test = passengers[train_size:]\n",
        "\n",
        "# Перевіримо розміри\n",
        "print(f\"Загальна кількість: {n_samples}\")\n",
        "print(f\"Розмір тренувального набору: {len(train)}\")\n",
        "print(f\"Розмір валідаційного набору: {len(test)}\")\n"
      ],
      "metadata": {
        "id": "USpGte_tBPR1",
        "colab": {
          "base_uri": "https://localhost:8080/"
        },
        "outputId": "9441d6e4-4a83-458e-d3f3-077631fd35f3"
      },
      "execution_count": 296,
      "outputs": [
        {
          "output_type": "stream",
          "name": "stdout",
          "text": [
            "Загальна кількість: 144\n",
            "Розмір тренувального набору: 96\n",
            "Розмір валідаційного набору: 48\n"
          ]
        }
      ]
    },
    {
      "cell_type": "markdown",
      "source": [
        "Ми поділили дані на два набори: тренувальний - 96 спостережень та валідаційний - 48 спостережень."
      ],
      "metadata": {
        "id": "9efnCAwx6GKq"
      }
    },
    {
      "cell_type": "markdown",
      "source": [
        "**Завдання 3**.\n",
        "\n",
        "Реалізуйте функцію `create_dataset`, яка перетворить одномірний часовий ряд (набір даних) у формат, придатний для тренування нейромережі.\n",
        "\n",
        "Функція повинна приймати два аргументи:\n",
        "- `dataset` — numpy-масив часового ряду,\n",
        "- `lookback` — кількість попередніх кроків, які використовуватимуться для передбачення.\n",
        "\n",
        "Функція повинна повернути два **тензори** PyTorch:\n",
        "- `X` — набір ознак (вікно попередніх значень),\n",
        "- `y` — цільові значення (наступні після вікна кроки).\n",
        "\n",
        "Дані ми будемо подавати моделі в наступному форматі:\n",
        "`\n",
        "tensor([[112.],\n",
        "        [118.],\n",
        "        [132.],\n",
        "        [129.],\n",
        "        [121.]])\n",
        "`\n",
        "Відповідно першою розмірністю буде йти розмір вхідного батча, а другою - розмір вхіднизх даних і в нас це 1, бо лише одне значення на вході щоразу.\n",
        "\n",
        "Після виконання завдання запустіть код нижче. Ми будемо передбачати на основі кількості пасажирів в попередній день кількість пасажирів в наступний, тому `lookback == 1`."
      ],
      "metadata": {
        "id": "YB-e-vEDx3bn"
      }
    },
    {
      "cell_type": "code",
      "source": [
        "import torch\n",
        "\n",
        "def create_dataset(data, lookback):\n",
        "    X = []\n",
        "    y = []\n",
        "    for i in range(len(data) - lookback):\n",
        "        X.append([data[i + j] for j in range(lookback)])\n",
        "        y.append(data[i + lookback])\n",
        "\n",
        "    return torch.tensor(X, dtype=torch.float32), torch.tensor(y, dtype=torch.float32).unsqueeze(1)\n"
      ],
      "metadata": {
        "id": "XpAr5JPFos5U"
      },
      "execution_count": 298,
      "outputs": []
    },
    {
      "cell_type": "code",
      "source": [
        "lookback = 1\n",
        "X_train, y_train = create_dataset(train, lookback=lookback)\n",
        "X_test, y_test = create_dataset(test, lookback=lookback)\n",
        "print(X_train.shape, y_train.shape)\n",
        "print(X_test.shape, y_test.shape)"
      ],
      "metadata": {
        "colab": {
          "base_uri": "https://localhost:8080/"
        },
        "id": "dA8FwOfwuPyl",
        "outputId": "6a4da1b5-c1d3-49c0-fb40-ea786b2e998f"
      },
      "execution_count": 300,
      "outputs": [
        {
          "output_type": "stream",
          "name": "stdout",
          "text": [
            "torch.Size([95, 1]) torch.Size([95, 1])\n",
            "torch.Size([47, 1]) torch.Size([47, 1])\n"
          ]
        }
      ]
    },
    {
      "cell_type": "markdown",
      "source": [
        "Очікуваний результат:\n",
        "```\n",
        "torch.Size([95, 1]) torch.Size([95, 1])\n",
        "torch.Size([47, 1]) torch.Size([47, 1])\n",
        "```"
      ],
      "metadata": {
        "id": "dvEA-D-SzcWf"
      }
    },
    {
      "cell_type": "markdown",
      "source": [
        "Для тренування моделі у нас є 95 зразків (X_train), для тестування — 47 зразків (X_test).\n",
        "\n",
        "Для кожного зразка є лише 1 ознака (вхід), що є кількістю пасажирів за попередній місяць.\n",
        "\n",
        "Для кожного зразка є лише 1 цільове значення (кількість пасажирів в наступному місяці), яке ми хочемо передбачити.\n",
        "\n"
      ],
      "metadata": {
        "id": "sT6XRXX14x00"
      }
    },
    {
      "cell_type": "markdown",
      "source": [
        "**Завдання 4**.\n",
        "\n",
        "Зверніть увагу на розмірності в попередньому завданні. Ми\n",
        "З допомогою модуля `torch.nn` опишіть клас `AirModel`, який є нейронною мережею для прогнозування кількості пасажирів за допомогою LSTM.\n",
        "\n",
        "1. **Конструктор класу** повинен приймати параметри `hidden_size`, `num_layers` та ініціювати шари:\n",
        "   - LSTM-шар з наступними параметрами:\n",
        "     - `input_size` — кожна точка часового ряду є окремим входом,,\n",
        "     - `hidden_size` — заданий в конструкторі класу мережі,\n",
        "     - `num_layers=1` — кількість шарів LSTM, задана в конструкторі мережі,\n",
        "     - `batch_first=True` — визначає, що першим виміром є розмір батчу.\n",
        "   - Лінійний шар (`nn.Linear`) для перетворення виходу LSTM на прогноз однієї точки.\n",
        "\n",
        "2. **Метод forward** повинен виконувати наступні дії:\n",
        "   - Передати вхідний тензор через LSTM-шар і отримати виходи (ігноруючи приховані стани).\n",
        "   - Пропустити вихід LSTM через лінійний шар для отримання остаточного прогнозу.\n",
        "\n",
        "Створіть об'єкт класу `AirModel` зі значеннями параметрів `hidden_size=50`, `num_layers=1` і протестуйте роботу моделі на вхідному тензорі `tensor([[112.]])`. На цьому етапі ми маємо переконатись, що модель здатна генерувати передбачення з рандомно ініційованими вагами."
      ],
      "metadata": {
        "id": "eeiFJ-jDznj5"
      }
    },
    {
      "cell_type": "code",
      "source": [
        "import torch.nn as nn\n",
        "\n",
        "class AirModel(nn.Module):\n",
        "    def __init__(self, hidden_size, num_layers):\n",
        "        super(AirModel, self).__init__()\n",
        "\n",
        "        # LSTM-шар\n",
        "        self.lstm = nn.LSTM(input_size=1,\n",
        "                            hidden_size=hidden_size,\n",
        "                            num_layers=num_layers,\n",
        "                            batch_first=True)\n",
        "\n",
        "        # Лінійний шар для перетворення виходу LSTM в прогноз\n",
        "        self.fc = nn.Linear(hidden_size, 1)\n",
        "\n",
        "    def forward(self, x):\n",
        "        # Проходимо через LSTM\n",
        "        lstm_out, _ = self.lstm(x)\n",
        "\n",
        "        # Отримуємо прогноз через лінійний шар\n",
        "        output = self.fc(lstm_out[:, -1, :])\n",
        "\n",
        "        return output\n"
      ],
      "metadata": {
        "id": "9Nm2TclfrgX4"
      },
      "execution_count": 301,
      "outputs": []
    },
    {
      "cell_type": "code",
      "source": [
        "# Створюємо модель\n",
        "model = AirModel(hidden_size=50, num_layers=1)\n",
        "\n",
        "# Тензор для тестування\n",
        "input_tensor = torch.tensor([[112.]], dtype=torch.float32).unsqueeze(-1)  # shape: (1, 1, 1)\n",
        "\n",
        "# Отримуємо прогноз від моделі\n",
        "output = model(input_tensor)\n",
        "\n",
        "# Виводимо результат\n",
        "print(output)\n",
        "\n",
        "# Розмірність\n",
        "print(output.shape)"
      ],
      "metadata": {
        "colab": {
          "base_uri": "https://localhost:8080/"
        },
        "id": "Cd8eceTyv8h5",
        "outputId": "ea2f5b83-c971-4bce-aec4-f6132ceeb22d"
      },
      "execution_count": 304,
      "outputs": [
        {
          "output_type": "stream",
          "name": "stdout",
          "text": [
            "tensor([[0.3116]], grad_fn=<AddmmBackward0>)\n",
            "torch.Size([1, 1])\n"
          ]
        }
      ]
    },
    {
      "cell_type": "markdown",
      "source": [
        "Модель з рандомними вагами дала прогноз, що дорівнює tensor([[0.3116]] для переданого tensor([[112.]]).\n",
        "\n",
        "Розмірність torch.Size([1, 1]) - означає, що тензор має двовимірну структуру з 1 рядком і 1 стовпцем.\n",
        "\n",
        "Значення, яке ми отримали не є точним прогнозом, оскільки ми не тренували модель, і ваги моделі випадково ініціалізовані.\n",
        "\n",
        "Атрибут grad_fn означає, що PyTorch відслідковує, як цей результат був обчислений, щоб пізніше використовувати його для обчислення градієнтів під час тренування моделі (як частину процесу backpropagation).\n",
        "\n",
        "\n",
        "Висновок: модель працює і може генерувати вихід на основі рандомних ваг, але для реального прогнозу потрібно провести тренування моделі на даних, щоб вона могла навчитись коректно передбачати результати."
      ],
      "metadata": {
        "id": "8RMI2wP80mCn"
      }
    },
    {
      "cell_type": "markdown",
      "source": [
        "**Завдання 5**.\n",
        "\n",
        "Створіть об'єкт DataLoader для завантаження даних, використовуючи тренувальні вибірки `X_train` та `y_train`. Ваш DataLoader повинен виконувати наступні вимоги:\n",
        "\n",
        "1. Використовувати клас `TensorDataset`, щоб об'єднати тензори ознак `X_train` і цільових значень `y_train`.\n",
        "2. Дані повинні завантажуватися невеликими батчами розміром 8 за допомогою параметра `batch_size`.\n",
        "3. Використовувати параметр `shuffle=True`, щоб дані перемішувалися перед кожною епохою тренування.\n"
      ],
      "metadata": {
        "id": "-R6zv9nu2tWB"
      }
    },
    {
      "cell_type": "code",
      "source": [
        "from torch.utils.data import DataLoader, TensorDataset\n",
        "\n",
        "# Модель LSTM очікує вхід з 3-ма розмірностями\n",
        "X_train = X_train.unsqueeze(1)\n",
        "\n",
        "# Створення TensorDataset для об'єднання X_train і y_train\n",
        "train_dataset = TensorDataset(X_train, y_train)\n",
        "\n",
        "# Створення DataLoader для завантаження даних\n",
        "train_loader = DataLoader(train_dataset, batch_size=8, shuffle=True)\n",
        "\n",
        "# Для тестових даних\n",
        "X_test = X_test.unsqueeze(1)\n",
        "test_dataset = TensorDataset(X_test, y_test)\n",
        "test_loader = DataLoader(test_dataset, batch_size=8, shuffle=False)\n",
        "\n",
        "# Перевіримо, як виглядає перший батч\n",
        "for batch_X, batch_y in train_loader:\n",
        "    print(f\"batch_X: {batch_X}\")\n",
        "    print(f\"batch_y: {batch_y}\")\n",
        "    print(f\"batch_X shape: {batch_X.shape}, batch_y shape: {batch_y.shape}\")\n",
        "    break\n"
      ],
      "metadata": {
        "id": "WKdkptY7DMAc",
        "colab": {
          "base_uri": "https://localhost:8080/"
        },
        "outputId": "68dd760b-9579-46c7-e6e9-2065655f9939"
      },
      "execution_count": 305,
      "outputs": [
        {
          "output_type": "stream",
          "name": "stdout",
          "text": [
            "batch_X: tensor([[[194.]],\n",
            "\n",
            "        [[149.]],\n",
            "\n",
            "        [[104.]],\n",
            "\n",
            "        [[236.]],\n",
            "\n",
            "        [[150.]],\n",
            "\n",
            "        [[135.]],\n",
            "\n",
            "        [[233.]],\n",
            "\n",
            "        [[306.]]])\n",
            "batch_y: tensor([[196.],\n",
            "        [170.],\n",
            "        [118.],\n",
            "        [235.],\n",
            "        [178.],\n",
            "        [148.],\n",
            "        [267.],\n",
            "        [271.]])\n",
            "batch_X shape: torch.Size([8, 1, 1]), batch_y shape: torch.Size([8, 1])\n"
          ]
        }
      ]
    },
    {
      "cell_type": "markdown",
      "source": [
        "Ми створили DataLoader, який завантажує дані в батчах розміром 8 екземплярів та має параметр shuffle=True, щоб дані перемішувалися.\n",
        "Батч відповідає формату вводу для LSTM.\n"
      ],
      "metadata": {
        "id": "R7q7vND5Cmcw"
      }
    },
    {
      "cell_type": "markdown",
      "source": [
        "**Завдання 6**.\n",
        "\n",
        "1. Реалізуйте навчання нейронної мережі `AirModel` для прогнозування часових рядів, використовуючи Adam-оптимізатор та функцію втрат MSE (середньоквадратичну похибку).\n",
        "2. Створіть цикл тренування для 2000 епох, у якому на кожній епосі:\n",
        "   - Виконуйте крок тренування моделі (прямий прохід, обчислення похибки, зворотний прохід і оновлення ваг).\n",
        "   - Підраховуйте середню похибку на кожному батчі даних і зберігайте її у списку `losses`.\n",
        "3. Раз на 100 епох проводьте валідацію моделі:\n",
        "   - Перевіряйте модель на тренувальних та тестових даних без оновлення ваг.\n",
        "   - Обчислюйте корінь середньоквадратичної похибки (RMSE) для тренувальної та тестової вибірок і виводьте результати на екран.\n",
        "   \n",
        "**Примітка:**\n",
        "- Використовуйте вже створений `DataLoader` для отримання батчів даних.\n",
        "- Валідацію виконуйте в режимі `eval()`, вимикаючи обчислення градієнтів з `torch.no_grad()`.\n",
        "\n",
        "**Приклад виходу:**\n",
        "```\n",
        "Epoch 0: train RMSE 12.3456, test RMSE 15.6789\n",
        "Epoch 100: train RMSE 9.8765, test RMSE 12.3456\n",
        "...\n",
        "```"
      ],
      "metadata": {
        "id": "6ZaGh7IF2nfT"
      }
    },
    {
      "cell_type": "code",
      "source": [
        "import torch.optim as optim\n",
        "\n",
        "# Функція тренування та валідації моделі\n",
        "def train_and_validate(model, train_loader, test_loader, epochs, learning_rate=0.001):\n",
        "\n",
        "    # Визначення функції втрат та оптимізатора\n",
        "    criterion = nn.MSELoss()  # МSE (середньоквадратична похибка)\n",
        "    optimizer = optim.Adam(model.parameters(), lr=learning_rate)\n",
        "\n",
        "    losses = []  # Список для зберігання втрат\n",
        "\n",
        "    for epoch in range(epochs):\n",
        "        model.train()\n",
        "        train_loss = 0.0\n",
        "\n",
        "        # Тренування на всіх батчах\n",
        "        for batch_X, batch_y in train_loader:\n",
        "            optimizer.zero_grad()  # Обнуляємо градієнти\n",
        "\n",
        "            # Прогноз\n",
        "            output = model(batch_X)\n",
        "\n",
        "            # Обчислення втрат\n",
        "            loss = criterion(output, batch_y)\n",
        "\n",
        "            # Зворотний прохід та оновлення ваг\n",
        "            loss.backward()\n",
        "            optimizer.step()\n",
        "\n",
        "            train_loss += loss.item()\n",
        "\n",
        "        losses.append(train_loss / len(train_loader))  # Додаємо середнє значення втрат\n",
        "\n",
        "        # Валідація раз на 100 епох\n",
        "        if (epoch + 1) % 100 == 0:\n",
        "            model.eval()  # Установлюємо модель в режим валідації\n",
        "            with torch.no_grad():  # Не обчислюємо градієнти для валідації\n",
        "                train_rmse = 0.0\n",
        "                test_rmse = 0.0\n",
        "\n",
        "                # Обчислення RMSE для тренувальних даних\n",
        "                for batch_X, batch_y in train_loader:\n",
        "                    output = model(batch_X)\n",
        "                    rmse = torch.sqrt(criterion(output, batch_y))\n",
        "                    train_rmse += rmse.item()\n",
        "\n",
        "                # Обчислення RMSE для тестових даних\n",
        "                for batch_X, batch_y in test_loader:\n",
        "                    output = model(batch_X)\n",
        "                    rmse = torch.sqrt(criterion(output, batch_y))\n",
        "                    test_rmse += rmse.item()\n",
        "\n",
        "                # Середнє значення RMSE по всіх батчах\n",
        "                train_rmse /= len(train_loader)\n",
        "                test_rmse /= len(test_loader)\n",
        "\n",
        "                # Виведення результатів\n",
        "                print(f\"Epoch {epoch+1}: train RMSE {train_rmse:.4f}, test RMSE {test_rmse:.4f}\")\n",
        "\n",
        "    return losses\n"
      ],
      "metadata": {
        "id": "NxT3XS4057Fp"
      },
      "execution_count": 312,
      "outputs": []
    },
    {
      "cell_type": "code",
      "source": [
        "model = AirModel(hidden_size=50, num_layers=1)\n",
        "# Кількість епох\n",
        "epochs = 2000\n",
        "\n",
        "losses = train_and_validate(model, train_loader, test_loader, epochs)"
      ],
      "metadata": {
        "colab": {
          "base_uri": "https://localhost:8080/"
        },
        "id": "qLB3E8wO7k37",
        "outputId": "f8f96a65-271b-48a0-ff29-c6fffe5fa396"
      },
      "execution_count": 313,
      "outputs": [
        {
          "output_type": "stream",
          "name": "stdout",
          "text": [
            "Epoch 100: train RMSE 186.2917, test RMSE 380.3245\n",
            "Epoch 200: train RMSE 153.6468, test RMSE 346.2813\n",
            "Epoch 300: train RMSE 124.5319, test RMSE 314.8212\n",
            "Epoch 400: train RMSE 101.0204, test RMSE 285.8741\n",
            "Epoch 500: train RMSE 82.5632, test RMSE 259.7232\n",
            "Epoch 600: train RMSE 64.4422, test RMSE 234.4634\n",
            "Epoch 700: train RMSE 52.3660, test RMSE 210.8108\n",
            "Epoch 800: train RMSE 44.1102, test RMSE 189.3663\n",
            "Epoch 900: train RMSE 35.5609, test RMSE 170.0562\n",
            "Epoch 1000: train RMSE 31.6246, test RMSE 153.0013\n",
            "Epoch 1100: train RMSE 30.2836, test RMSE 139.2981\n",
            "Epoch 1200: train RMSE 27.6457, test RMSE 127.8511\n",
            "Epoch 1300: train RMSE 25.0131, test RMSE 118.4500\n",
            "Epoch 1400: train RMSE 24.2693, test RMSE 110.3560\n",
            "Epoch 1500: train RMSE 23.6428, test RMSE 104.5597\n",
            "Epoch 1600: train RMSE 23.4159, test RMSE 99.9691\n",
            "Epoch 1700: train RMSE 23.3448, test RMSE 97.2356\n",
            "Epoch 1800: train RMSE 24.2427, test RMSE 93.3355\n",
            "Epoch 1900: train RMSE 23.0588, test RMSE 92.4643\n",
            "Epoch 2000: train RMSE 22.8906, test RMSE 90.4040\n"
          ]
        }
      ]
    },
    {
      "cell_type": "markdown",
      "source": [
        "Модель стабільно зменшує помилку на тренувальній вибірці:\n",
        "\n",
        "RMSE знизився з 186.29 (на 100-й епосі) до 22.89 (на 2000-й епосі).\n",
        "\n",
        "Це означає, що модель добре адаптувалася до навчальних даних.\n",
        "\n",
        "На тестовій вибірці RMSE також поступово зменшується, проте навіть після 2000 епох RMSE залишається високим — 90.40.\n",
        "\n",
        "Це вказує на обмежену здатність до узагальнення: модель не здатна вловити повну структуру даних (особливо сезонність)."
      ],
      "metadata": {
        "id": "mvagdjMrRFvT"
      }
    },
    {
      "cell_type": "markdown",
      "source": [
        "**Завдання 7.** Побудуйте графік лосів. Зробіть висновок з графіку, чи навчилась модель?"
      ],
      "metadata": {
        "id": "m0sIo4kp5X_s"
      }
    },
    {
      "cell_type": "code",
      "source": [
        "# Побудова графіка лосів\n",
        "plt.plot(range(epochs), losses)\n",
        "plt.xlabel('Epochs')\n",
        "plt.ylabel('Average Loss')\n",
        "plt.title('Training Loss over Epochs')\n",
        "plt.show()"
      ],
      "metadata": {
        "id": "AS2USLRq76up",
        "colab": {
          "base_uri": "https://localhost:8080/",
          "height": 472
        },
        "outputId": "afa76744-f244-4082-a666-fec37a3fccc8"
      },
      "execution_count": 314,
      "outputs": [
        {
          "output_type": "display_data",
          "data": {
            "text/plain": [
              "<Figure size 640x480 with 1 Axes>"
            ],
            "image/png": "[encoded data removed]"
          },
          "metadata": {}
        }
      ]
    },
    {
      "cell_type": "markdown",
      "source": [
        "Графік показує, що модель навчилась. Вона зменшила втрати до стабільно низького рівня, вийшла на плато."
      ],
      "metadata": {
        "id": "Uk_vD59xKzbe"
      }
    },
    {
      "cell_type": "markdown",
      "source": [
        "Модель навчилась, але не факт, що точно)"
      ],
      "metadata": {
        "id": "8eBoUQVB5p0h"
      }
    },
    {
      "cell_type": "markdown",
      "source": [
        "Доволі неочікувано, що середньоквадратичне відхилення тестового набору даних буде на порядок більшим за одиниці в нашому наборі даних. Середньоквадратичне відхилення 100 означає, що прогноз і фактичне значення будуть відрізнятися в середньому на 100 (тобто, 100 000 пасажирів у цьому наборі даних).\n",
        "\n"
      ],
      "metadata": {
        "id": "-vCiGfQw7sEK"
      }
    },
    {
      "cell_type": "markdown",
      "source": [
        "Щоб краще зрозуміти якість прогнозу, ви можете побудувати графік з кодом нижче (а ще нижче - описано, що відбувається в цьому коді, бо це теж корисно зрозуміти):"
      ],
      "metadata": {
        "id": "bgtO7NZh77vU"
      }
    },
    {
      "cell_type": "code",
      "source": [
        "timeseries=passengers"
      ],
      "metadata": {
        "id": "mWpC5c7KtsYt"
      },
      "execution_count": 310,
      "outputs": []
    },
    {
      "cell_type": "code",
      "source": [
        "def plot_predicts():\n",
        "  with torch.no_grad():\n",
        "      # Зсув прогнозів для тренувальних даних\n",
        "      train_plot = np.ones_like(timeseries) * np.nan\n",
        "      y_pred = model(X_train)\n",
        "      y_pred = y_pred[:, -1]\n",
        "      train_plot[lookback:train_size] = model(X_train)[:, -1]\n",
        "\n",
        "      # Зсув прогнозів для тестових даних\n",
        "      test_plot = np.ones_like(timeseries) * np.nan\n",
        "      test_plot[train_size+lookback:len(timeseries)] = model(X_test)[:, -1]\n",
        "\n",
        "  # Візуалізація результатів\n",
        "  plt.plot(timeseries, c='b')  # Реальні дані\n",
        "  plt.plot(train_plot, c='r')  # Прогнози на тренувальних даних\n",
        "  plt.plot(test_plot, c='g')   # Прогнози на тестових даних\n",
        "  plt.show()\n",
        "\n",
        "plot_predicts()"
      ],
      "metadata": {
        "id": "ZznU2AK0vES5",
        "colab": {
          "base_uri": "https://localhost:8080/",
          "height": 523
        },
        "outputId": "d6a07f92-e8d4-45ef-8bfe-a72caaefe626"
      },
      "execution_count": 315,
      "outputs": [
        {
          "output_type": "stream",
          "name": "stderr",
          "text": [
            "<ipython-input-315-f885d675f3c1>:7: DeprecationWarning: __array__ implementation doesn't accept a copy keyword, so passing copy=False failed. __array__ must implement 'dtype' and 'copy' keyword arguments.\n",
            "  train_plot[lookback:train_size] = model(X_train)[:, -1]\n",
            "<ipython-input-315-f885d675f3c1>:11: DeprecationWarning: __array__ implementation doesn't accept a copy keyword, so passing copy=False failed. __array__ must implement 'dtype' and 'copy' keyword arguments.\n",
            "  test_plot[train_size+lookback:len(timeseries)] = model(X_test)[:, -1]\n"
          ]
        },
        {
          "output_type": "display_data",
          "data": {
            "text/plain": [
              "<Figure size 640x480 with 1 Axes>"
            ],
            "image/png": "[encoded data removed]"
          },
          "metadata": {}
        }
      ]
    },
    {
      "cell_type": "markdown",
      "source": [
        "На нашому графіку червона лінія (тренувальні прогнози) непогано повторює синю (ground truth) на тренувальному відрізку.\n",
        "\n",
        "Це узгоджується з низьким RMSE на train set у пізніх епохах (~23).\n",
        "\n",
        "На тестовому відрізку зелена крива набагато гірше повторює синю — вона згладжує сезонні коливання.\n",
        "\n",
        "Модель зберігає тренд (розуміє загальний напрямок зростання), але досить слабо."
      ],
      "metadata": {
        "id": "dmAh6CtDIxuF"
      }
    },
    {
      "cell_type": "markdown",
      "source": [
        "**Що відбувається в коді вище.** В цьому коді здійснюється процес прогнозування часових рядів за допомогою LSTM моделі, а також виведення графіку, який показує реальні значення, тренувальні та тестові прогнози. Ось що відбувається на кожному етапі:\n",
        "\n",
        "1. **`torch.no_grad()`**: Цей контекстний менеджер вимикає обчислення градієнтів, що означає, що під час прогнозування не будуть зберігатися проміжні обчислення для зворотного проходу (backpropagation). Це підвищує ефективність під час прогнозування і зменшує використання пам'яті.\n",
        "\n",
        "2. **Зсув прогнозів для тренувальних даних:**\n",
        "   - Створюється масив `train_plot`, який має такий самий розмір, як і часовий ряд (`timeseries`), і заповнюється значеннями NaN (`np.nan`), щоб залишити місце для реальних значень.\n",
        "   - Модель передбачає виходи для тренувальних даних `X_train`.\n",
        "   - Використовується лише останнє передбачене значення для кожного входу LSTM (`y_pred[:, -1]`).\n",
        "   - Прогнози зсуваються, починаючи з індексу `lookback` до кінця тренувальних даних (індекс `train_size`). Цей зсув потрібен, щоб зробити прогноз на основі попередніх даних і відобразити його на правильній частині графіку.\n",
        "\n",
        "3. **Зсув прогнозів для тестових даних:**\n",
        "   - Створюється масив `test_plot`, який також заповнюється NaN.\n",
        "   - Прогнози для тестових даних додаються з індексу `train_size + lookback` до кінця реальних даних, щоб відобразити, де модель починає прогнозувати тестову вибірку.\n",
        "\n",
        "4. **Побудова графіка:**\n",
        "   - `plt.plot(timeseries, c='b')`: Виводить реальні значення часового ряду (синя лінія).\n",
        "   - `plt.plot(train_plot, c='r')`: Виводить тренувальні прогнози (червона лінія).\n",
        "   - `plt.plot(test_plot, c='g')`: Виводить тестові прогнози (зелена лінія).\n",
        "\n",
        "**Чому це робиться:**\n",
        "- Зсув прогнозів для тренувальних і тестових даних дозволяє візуально зрівняти, наскільки добре модель прогнозує як на тренувальній, так і на тестовій вибірках. Зазвичай, червона лінія (тренувальні прогнози) повинна точно відповідати синій лінії (реальні дані), а зелена лінія (тестові прогнози) дає змогу побачити, наскільки модель добре працює на нових даних, яких вона раніше не бачила."
      ],
      "metadata": {
        "id": "ahPW3iiJDg1R"
      }
    },
    {
      "cell_type": "markdown",
      "source": [
        "**Завдання 8**. Навчіть модель з hidden_size=100 та порівняйте результати прогнозів з попередніми."
      ],
      "metadata": {
        "id": "PhoeHLus-xIr"
      }
    },
    {
      "cell_type": "code",
      "source": [
        "model = AirModel(hidden_size=100, num_layers=1)"
      ],
      "metadata": {
        "id": "CeDUM0OR3Ti4"
      },
      "execution_count": 316,
      "outputs": []
    },
    {
      "cell_type": "code",
      "source": [
        "losses = train_and_validate(model, train_loader, test_loader, epochs)"
      ],
      "metadata": {
        "colab": {
          "base_uri": "https://localhost:8080/"
        },
        "id": "CS4SUlfjGuls",
        "outputId": "b3dc18bb-87be-4ded-f544-948e135e27f7"
      },
      "execution_count": 317,
      "outputs": [
        {
          "output_type": "stream",
          "name": "stdout",
          "text": [
            "Epoch 100: train RMSE 145.3113, test RMSE 335.6768\n",
            "Epoch 200: train RMSE 94.4796, test RMSE 275.2856\n",
            "Epoch 300: train RMSE 65.8725, test RMSE 229.8207\n",
            "Epoch 400: train RMSE 45.3341, test RMSE 191.9199\n",
            "Epoch 500: train RMSE 32.7203, test RMSE 161.3866\n",
            "Epoch 600: train RMSE 27.0682, test RMSE 137.8889\n",
            "Epoch 700: train RMSE 26.3360, test RMSE 119.4442\n",
            "Epoch 800: train RMSE 24.3052, test RMSE 107.7274\n",
            "Epoch 900: train RMSE 23.2725, test RMSE 99.1507\n",
            "Epoch 1000: train RMSE 26.9578, test RMSE 100.6846\n",
            "Epoch 1100: train RMSE 22.6743, test RMSE 88.9840\n",
            "Epoch 1200: train RMSE 22.6406, test RMSE 87.1987\n",
            "Epoch 1300: train RMSE 22.7087, test RMSE 86.7403\n",
            "Epoch 1400: train RMSE 22.4186, test RMSE 82.2542\n",
            "Epoch 1500: train RMSE 22.6195, test RMSE 81.9689\n",
            "Epoch 1600: train RMSE 22.6737, test RMSE 82.9075\n",
            "Epoch 1700: train RMSE 22.4601, test RMSE 81.0356\n",
            "Epoch 1800: train RMSE 22.6675, test RMSE 78.7149\n",
            "Epoch 1900: train RMSE 22.9340, test RMSE 80.3599\n",
            "Epoch 2000: train RMSE 22.9055, test RMSE 78.0579\n"
          ]
        }
      ]
    },
    {
      "cell_type": "markdown",
      "source": [
        "Модель з hidden_size=100 навчається швидше (менші RMSE вже на 500 епосі).\n",
        "\n",
        "Дає кращі результати як на тренуванні, так і на тесті.\n",
        "\n",
        "RMSE все ж на тестовому наборі значно вище ніж на тренувальному, можливо в нашої моделі недостатньо складна архітектура, num_layers=1 може бути мало для складної залежності (тренд + сезонність).\n",
        "\n",
        "\n",
        "Модель не бачить достатньо інформації - коротке вікно не дає моделі можливості вловити сезонність.\n",
        "\n",
        "Можливо через відсутність інформативних ознак, наприклад, таких як місяць, квартал, рік."
      ],
      "metadata": {
        "id": "SM2ZBc0iN39h"
      }
    }
  ]
}