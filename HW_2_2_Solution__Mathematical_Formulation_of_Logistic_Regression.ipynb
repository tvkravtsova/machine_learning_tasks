{
  "nbformat": 4,
  "nbformat_minor": 0,
  "metadata": {
    "colab": {
      "provenance": []
    },
    "kernelspec": {
      "name": "python3",
      "display_name": "Python 3"
    },
    "language_info": {
      "name": "python"
    }
  },
  "cells": [
    {
      "cell_type": "markdown",
      "source": [
        "В цьому домашньому завданні ми реалізуємо логістичну регресію на `numpy`.\n",
        "Ці завдання допоможуть вам ґрунтовно засвоїти основні концепції логістичної регресії та реалізувати їх на практиці 🔥\n",
        "\n",
        "#### Завдання 1: Реалізація функції сигмоїди\n",
        "1. З використанням `numpy` напишіть функцію `sigmoid(z)` для обчислення значення сигмоїди згідно з формулою:\n",
        "   $$\n",
        "   \\sigma(z) = \\frac{1}{1 + e^{-z}}\n",
        "   $$\n",
        "2. Використовуючи цю функцію, обчисліть значення сигмоїди для наступних даних: $ z = [-2, -1, 0, 1, 2] $. Виведіть результат обчислень.\n"
      ],
      "metadata": {
        "id": "KxRmdyv5CIZe"
      }
    },
    {
      "cell_type": "code",
      "source": [
        "#1\n",
        "import numpy as np\n",
        "\n",
        "def sigmoid(z):\n",
        "    return 1 / (1 + np.exp(-z))"
      ],
      "metadata": {
        "id": "Sfq30QKkG3L8"
      },
      "execution_count": null,
      "outputs": []
    },
    {
      "cell_type": "code",
      "source": [
        "#2\n",
        "z = np.array([-2, -1, 0, 1, 2])\n",
        "\n",
        "sigmoid_values = sigmoid(z)\n",
        "\n",
        "print(\"Sigmoid values for z =\", z, \":\", sigmoid_values.round(5))"
      ],
      "metadata": {
        "colab": {
          "base_uri": "https://localhost:8080/"
        },
        "id": "N4ii_IFfG4nL",
        "outputId": "e20e0537-7712-4d96-b591-e2348bb843a2"
      },
      "execution_count": null,
      "outputs": [
        {
          "output_type": "stream",
          "name": "stdout",
          "text": [
            "Sigmoid values for z = [-2 -1  0  1  2] : [0.1192  0.26894 0.5     0.73106 0.8808 ]\n"
          ]
        }
      ]
    },
    {
      "cell_type": "markdown",
      "source": [
        "Функція sigmoid(z) обчислює значення сигмоїди для заданого значення z.\n",
        "\n",
        "Як і передбачалося, обчислення сигмоїдної функції для наших даних дало результати, які знаходяться в межах від 0 до 1.\n",
        "\n",
        "Значення функції для z = [-2 -1  0  1  2] становлять: [0.1192  0.26894 0.5     0.73106 0.8808 ] відповідно.\n"
      ],
      "metadata": {
        "id": "vp6vEQwuHwu_"
      }
    },
    {
      "cell_type": "markdown",
      "source": [
        "\n",
        "\n",
        "#### Завдання 2: Реалізація функції гіпотези для логістичної регресії\n",
        "1. Напишіть функцію `hypothesis(theta, X)`, яка обчислює гіпотезу для логістичної регресії, використовуючи функцію сигмоїди. Формула гіпотези:\n",
        "   $$\n",
        "   h_\\theta(x) = \\sigma(\\theta^T x) = \\frac{1}{1 + e^{-\\theta^T x}}\n",
        "   $$\n",
        "2. Використайте функцію `hypothesis` для обчислення значень гіпотези для наступних даних:\n",
        "   \n",
        "   $\\theta = [0.5, -0.5]$\n",
        "   \n",
        "   $X = \\begin{bmatrix} 1 & 2 \\\\ 1 & -1 \\\\ 1 & 0 \\\\ 1 & 1 \\end{bmatrix}$\n",
        "\n",
        "  Виведіть результат обчислень.\n"
      ],
      "metadata": {
        "id": "LVd_jCGNCR1F"
      }
    },
    {
      "cell_type": "code",
      "source": [
        "def hypothesis(theta, X):\n",
        "    z = np.dot(X, theta)\n",
        "    return sigmoid(z)\n"
      ],
      "metadata": {
        "id": "nQEan74FQ-Co"
      },
      "execution_count": null,
      "outputs": []
    },
    {
      "cell_type": "code",
      "source": [
        "# Задані дані\n",
        "theta = np.array([0.5, -0.5])\n",
        "X = np.array([[1, 2], [1, -1], [1, 0], [1, 1]])\n",
        "\n",
        "# Викликаємо функцію гіпотези для наших значень\n",
        "hypothesis_values = hypothesis(theta, X)"
      ],
      "metadata": {
        "id": "gECU-5oHcqCC"
      },
      "execution_count": null,
      "outputs": []
    },
    {
      "cell_type": "code",
      "source": [
        "# Виводимо результати обчислень\n",
        "print(\"Hypothesis values:\", hypothesis_values)\n"
      ],
      "metadata": {
        "colab": {
          "base_uri": "https://localhost:8080/"
        },
        "id": "F2dt3CmqcI8R",
        "outputId": "24bf58aa-566a-425d-97d6-d7fb7180659c"
      },
      "execution_count": null,
      "outputs": [
        {
          "output_type": "stream",
          "name": "stdout",
          "text": [
            "Hypothesis values: [0.37754067 0.73105858 0.62245933 0.5       ]\n"
          ]
        }
      ]
    },
    {
      "cell_type": "markdown",
      "source": [
        "Кожне значення в масиві, яке повертається функцією hypothesis, є передбаченою ймовірністю того, що мітка для відповідного прикладу дорівнює 1.\n",
        "\n",
        "\n",
        "Чим ближче значення до 1, тим більше модель впевнена, що результат для цього прикладу є позитивним y=1, чим ближче значення до 0, тим більше модель схиляється до того, що результат для цього прикладу є негативним мітка y=0."
      ],
      "metadata": {
        "id": "Yol05koM5lpt"
      }
    },
    {
      "cell_type": "markdown",
      "source": [
        "#### Завдання 3: Реалізація функції для підрахунку градієнтів фукнції втрат\n",
        "1. Напишіть функцію `compute_gradient(theta, X, y)`, яка обчислює градієнти функції втрат для логістичної регресії. Формула для обчислення градієнта:\n",
        "   $$\n",
        "   \\frac{\\partial L(\\theta)}{\\partial \\theta_j} = \\frac{1}{m} \\sum_{i=1}^{m} \\left[ (h_\\theta(x^{(i)}) - y^{(i)}) x_j^{(i)} \\right]\n",
        "   $$\n",
        "2. Використайте функцію `compute_gradient` для обчислення градієнтів для наступних даних:\n",
        "\n",
        "  $\\theta = [0.5, -0.5]$\n",
        "\n",
        "  $X = \\begin{bmatrix} 1 & 2 \\\\ 1 & -1 \\\\ 1 & 0 \\\\ 1 & 1 \\end{bmatrix}$\n",
        "\n",
        "  $y = [1, 0, 1, 0]$\n",
        "\n",
        "  Виведіть результат обчислень."
      ],
      "metadata": {
        "id": "MWASH4Z4ClTo"
      }
    },
    {
      "cell_type": "code",
      "source": [
        "import numpy as np\n",
        "\n",
        "def compute_gradient(theta, X, y):\n",
        "    m = X.shape[0]  # Number of training examples\n",
        "    h0 = hypothesis(theta, X)  # Hypothesis values\n",
        "    error = h0 - y\n",
        "    gradient = (1 / m) * np.dot(X.T, error)\n",
        "    return gradient\n"
      ],
      "metadata": {
        "id": "0DM4xqZCL32i"
      },
      "execution_count": null,
      "outputs": []
    },
    {
      "cell_type": "code",
      "source": [
        "theta = np.array([0.5, -0.5])\n",
        "\n",
        "X = np.array([\n",
        "    [1, 2],\n",
        "    [1, -1],\n",
        "    [1, 0],\n",
        "    [1, 1]\n",
        "])\n",
        "\n",
        "# True labels\n",
        "y = np.array([1, 0, 1, 0])"
      ],
      "metadata": {
        "id": "zftPQK-Ns71g"
      },
      "execution_count": null,
      "outputs": []
    },
    {
      "cell_type": "code",
      "source": [
        "# Обчислення градієнтів для наших даних\n",
        "gradient = compute_gradient(theta, X, y)\n",
        "\n",
        "# Виводимо результати обчислень\n",
        "print(\"Gradient values:\", gradient)"
      ],
      "metadata": {
        "colab": {
          "base_uri": "https://localhost:8080/"
        },
        "id": "JahbVY-Zsrp_",
        "outputId": "d3b6fce6-f7bf-4ab5-9a31-01fa0e9e430a"
      },
      "execution_count": null,
      "outputs": [
        {
          "output_type": "stream",
          "name": "stdout",
          "text": [
            "Gradient values: [ 0.05776464 -0.36899431]\n"
          ]
        }
      ]
    },
    {
      "cell_type": "markdown",
      "source": [
        "Наша функція повернула значення першого елемента градієнта, що відповідає частковій похідній функції втрат по theta0 і становить 0.05776464.\n",
        "\n",
        "Другий елемент градієнта відповідає частковій похідній функції втрат по theta1 дорівнює 0.36899431.\n"
      ],
      "metadata": {
        "id": "J5oMcJRcAHQ2"
      }
    },
    {
      "cell_type": "markdown",
      "source": [
        "\n",
        "#### Завдання 4: Реалізація повного батч градієнтного спуску\n",
        "\n",
        "**Задача:**\n",
        "1. Напишіть функцію `full_batch_gradient_descent(X, y, lr=0.1, epochs=100)`, яка реалізує алгоритм Full градієнтного спуску для логістичної регресії. Використовуйте такі формули:\n",
        "   - Гіпотеза: $ h_\\theta(x) = \\sigma(\\theta^T x) $\n",
        "   - Оновлення параметрів: $ \\theta_j := \\theta_j - \\alpha \\frac{\\partial L(\\theta)}{\\partial \\theta_j} $\n",
        "2. Використайте функцію `full_batch_gradient_descent` для обчислення параметрів моделі на наступних даних:\n",
        "\n",
        "  $X = \\begin{bmatrix} 1 & 2 \\\\ 1 & -1 \\\\ 1 & 0 \\\\ 1 & 1 \\end{bmatrix}$\n",
        "\n",
        "  $y = [1, 0, 1, 0]$\n",
        "\n",
        "  Увага! Матриця $X$ вже має стовпець одиниць і передбачається, що це. - стовпець для intercept - параметра зсуву.\n",
        "\n",
        "  Виведіть результат обчислень.\n"
      ],
      "metadata": {
        "id": "nOtJEtdnC1K9"
      }
    },
    {
      "cell_type": "code",
      "source": [
        "def full_batch_gradient_descent(X, y, lr=0.1, epochs=100):\n",
        "    X = np.array(X)\n",
        "    y = np.array(y)\n",
        "    theta = np.zeros(X.shape[1])  # Ініціалізація параметрів нулями\n",
        "\n",
        "    for epoch in range(epochs):\n",
        "        gradient = compute_gradient(theta, X, y)  # Обчислення градієнта\n",
        "        theta -= lr * gradient  # Оновлення параметрів\n",
        "\n",
        "    return theta\n"
      ],
      "metadata": {
        "id": "fHtUOTxXL4Yy"
      },
      "execution_count": null,
      "outputs": []
    },
    {
      "cell_type": "code",
      "source": [
        "# Дані\n",
        "X = [\n",
        "    [1, 2],\n",
        "    [1, -1],\n",
        "    [1, 0],\n",
        "    [1, 1]\n",
        "]\n",
        "y = [1, 0, 1, 0]\n",
        "\n",
        "# Навчаємо модель за допомогою градієнтного спуску\n",
        "theta = full_batch_gradient_descent(X, y, lr=0.1, epochs=100)\n",
        "print(\"Параметри моделі:\", theta)"
      ],
      "metadata": {
        "colab": {
          "base_uri": "https://localhost:8080/"
        },
        "id": "edDDkbsEBq0Y",
        "outputId": "60f344ce-e5fe-433f-eaa5-433cc06e1321"
      },
      "execution_count": null,
      "outputs": [
        {
          "output_type": "stream",
          "name": "stdout",
          "text": [
            "Параметри моделі: [-0.2893693   0.77655125]\n"
          ]
        }
      ]
    },
    {
      "cell_type": "markdown",
      "source": [
        "Згідно наших обчислень:\n",
        "\n",
        "Інтерсепт (theta0) становить -0.2893693.\n",
        "Коефіцієнт theta1  становить 0.77655125.\n"
      ],
      "metadata": {
        "id": "pP5FwLKuIMy3"
      }
    },
    {
      "cell_type": "markdown",
      "source": [
        "#### Завдання 5. Обчислення точності моделі\n",
        "\n",
        "1. Напишіть функцію `predict_proba(theta, X)`, яка використовує знайдені параметри $\\theta$ для обчислення ймовірностей належності поточного прикладу з даних до класу $y=1$ на основі значень $\\sigma(\\theta^T x)$.\n",
        "\n",
        "2. Напишіть функцію `predict(theta, X, threshold=0.5)`, яка обчислює клас з передбаченої імовірності належності екземпляра до класу 1 з порогом 0.5. Тобто якщо ймовірність менше 0.5, то передбачаємо клас 0, інакше клас 1.\n",
        "\n",
        "3. Напишіть функцію `accuracy(y_true, y_pred)`, яка обчислює точність моделі, визначивши частку правильно передбачених класів.\n",
        "\n",
        "  Формула метрики Accuracy:\n",
        "  $$\n",
        "  \\text{Accuracy} = \\frac{\\sum_{i=1}^{m} I(\\hat{{y}^{(i)}} = y^{(i)})}{m}\n",
        "  $$\n",
        "\n",
        "  де $\\hat{{y}^{(i)}}$ - передбачене значення класу, $I$ - індикаторна функція (яка дорівнює 1, якщо умова виконується, і 0 - якщо ні), $m$ - кількість прикладів.\n",
        "\n",
        "4. Обчисліть з використанням даних в завданні 4 $X$, $y$ та обчислених коефіцієнтах $\\theta$ та виведіть на екран:\n",
        "  - передбачені моделлю імовірності належності кожного з екземплярів в матриці `X` до класу 1\n",
        "  - класи кожного екземпляра з матриці `X`\n",
        "  - точність моделі."
      ],
      "metadata": {
        "id": "E4iZV55cE5f3"
      }
    },
    {
      "cell_type": "code",
      "source": [
        "import numpy as np\n",
        "\n",
        "def sigmoid(z):\n",
        "    return 1 / (1 + np.exp(-z))\n",
        "\n",
        "def predict_proba(theta, X):\n",
        "    z = np.dot(X, theta)\n",
        "    return sigmoid(z)\n",
        "\n",
        "def predict(theta, X, threshold=0.5):\n",
        "    probabilities = predict_proba(theta, X)\n",
        "    return (probabilities >= threshold).astype(int)"
      ],
      "metadata": {
        "id": "h5yB3K-2KrFk"
      },
      "execution_count": null,
      "outputs": []
    },
    {
      "cell_type": "code",
      "source": [
        "def accuracy(y_true, y_pred):\n",
        "\n",
        "    # Обчислюємо кількість правильних передбачень\n",
        "    correct_predictions = np.sum(y_true == y_pred)\n",
        "    # Загальна кількість прикладів\n",
        "    total_samples = len(y_true)\n",
        "    # Точність моделі\n",
        "    return correct_predictions / total_samples"
      ],
      "metadata": {
        "id": "MH5ln3skO52e"
      },
      "execution_count": null,
      "outputs": []
    },
    {
      "cell_type": "code",
      "source": [
        "# Дані\n",
        "X = np.array([\n",
        "    [1, 2],\n",
        "    [1, -1],\n",
        "    [1, 0],\n",
        "    [1, 1]\n",
        "])\n",
        "y = np.array([1, 0, 1, 0])\n",
        "\n",
        "theta = np.array([-0.2893693, 0.77655125])"
      ],
      "metadata": {
        "id": "GYQAJjjFfQdd"
      },
      "execution_count": null,
      "outputs": []
    },
    {
      "cell_type": "code",
      "source": [
        "# Обчислення ймовірностей, передбачених класів і точності\n",
        "probabilities = predict_proba(theta, X)\n",
        "predicted_classes = predict(theta, X)\n",
        "model_accuracy = accuracy(y, predicted_classes)\n",
        "\n",
        "# Виведення результатів\n",
        "print(\"Ймовірності належності кожного екземпляра до класу 1:\")\n",
        "print(probabilities)\n",
        "\n",
        "print(\"Передбачені класи для кожного екземпляра:\")\n",
        "print(predicted_classes)\n",
        "\n",
        "print(\"Точність моделі:\")\n",
        "print(model_accuracy)"
      ],
      "metadata": {
        "colab": {
          "base_uri": "https://localhost:8080/"
        },
        "id": "2Ln5U1u4fLWp",
        "outputId": "7ce2ec9d-c439-4e99-da92-839a7505c84c"
      },
      "execution_count": null,
      "outputs": [
        {
          "output_type": "stream",
          "name": "stdout",
          "text": [
            "Ймовірності належності кожного екземпляра до класу 1:\n",
            "[0.77966809 0.25617966 0.42815828 0.61944235]\n",
            "Передбачені класи для кожного екземпляра:\n",
            "[1 0 0 1]\n",
            "Точність моделі:\n",
            "0.5\n"
          ]
        }
      ]
    },
    {
      "cell_type": "markdown",
      "source": [
        "Модель правильно класифікувала лише 2 з 4 прикладів, що дає точність 0.5 (50%)."
      ],
      "metadata": {
        "id": "1YstG-kTiFhI"
      }
    }
  ]
}