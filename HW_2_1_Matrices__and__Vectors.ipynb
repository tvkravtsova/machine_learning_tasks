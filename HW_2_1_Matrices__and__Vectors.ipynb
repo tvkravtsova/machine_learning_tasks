{
  "nbformat": 4,
  "nbformat_minor": 0,
  "metadata": {
    "colab": {
      "provenance": []
    },
    "kernelspec": {
      "name": "python3",
      "display_name": "Python 3"
    },
    "language_info": {
      "name": "python"
    }
  },
  "cells": [
    {
      "cell_type": "markdown",
      "source": [
        "### Завдання 1: Створення матриць та векторів\n",
        "1. Створіть `numpy` вектор `vector` розмірністю 10 з випадковими дійсними значеннями в діапазоні від 0 до 1. Можна скористатись двома альтернативними варіантами:\n",
        "  1. Генерація випадкових чисел з модулем [`random.uniform`](https://docs.python.org/3/library/random.html).\n",
        "  2. Створення вектора з допомогою метода `numpy` [np.random.rand](https://numpy.org/doc/stable/reference/random/generated/numpy.random.rand.html)\n",
        "\n",
        "2. Створіть матрицю `matrix` типу `numpy.array` розмірності 3x3 з наступними значеннями\n",
        "\n",
        "  $$\n",
        "  matrix = \\begin{bmatrix}\n",
        "  11 & 14 & 17 \\\\\n",
        "  20 & 23 & 26 \\\\\n",
        "  29 & 32 & 35\n",
        "  \\end{bmatrix}\n",
        "  $$\n",
        "\n",
        "  будь-яким відомими Вам способом.\n",
        "\n",
        "Виведіть на екран вектор і матрицю, а також їх розміри.\n"
      ],
      "metadata": {
        "id": "efug1V4CM0lT"
      }
    },
    {
      "cell_type": "code",
      "source": [
        "import numpy as np\n",
        "import random\n",
        "\n",
        "random.seed(42)\n",
        "\n",
        "# Генерація вектора з використанням random.uniform\n",
        "vector = np.random.uniform(0, 1, 10)\n",
        "\n",
        "\n",
        "# Створення матриці\n",
        "matrix = np.array([[11, 14, 17],\n",
        "                   [20, 23, 26],\n",
        "                   [29, 32, 35]])"
      ],
      "metadata": {
        "id": "5K9737uCAAHX"
      },
      "execution_count": null,
      "outputs": []
    },
    {
      "cell_type": "code",
      "source": [
        "# Виведення результатів\n",
        "print(\"Вектор:\\n\", vector)\n",
        "print(\"Матриця:\\n\", matrix)"
      ],
      "metadata": {
        "colab": {
          "base_uri": "https://localhost:8080/"
        },
        "id": "dh4Uy808A_vn",
        "outputId": "954615b1-b616-4b4e-d6cb-0fd436cdd139"
      },
      "execution_count": null,
      "outputs": [
        {
          "output_type": "stream",
          "name": "stdout",
          "text": [
            "Вектор:\n",
            " [0.2021159  0.11895671 0.6808162  0.70369103 0.45228988 0.26324875\n",
            " 0.17044462 0.78045417 0.96266992 0.9403321 ]\n",
            "Матриця:\n",
            " [[11 14 17]\n",
            " [20 23 26]\n",
            " [29 32 35]]\n"
          ]
        }
      ]
    },
    {
      "cell_type": "code",
      "source": [
        "# Виведення розміру\n",
        "print(\"Розмір вектора:\", vector.shape)\n",
        "print(\"Розмір матриці:\", matrix.shape)"
      ],
      "metadata": {
        "colab": {
          "base_uri": "https://localhost:8080/"
        },
        "id": "ZLvDVMIuAuEN",
        "outputId": "b7e6ccc6-5763-4676-b5aa-d0d7e51d8940"
      },
      "execution_count": null,
      "outputs": [
        {
          "output_type": "stream",
          "name": "stdout",
          "text": [
            "Розмір вектора: (10,)\n",
            "Розмір матриці: (3, 3)\n"
          ]
        }
      ]
    },
    {
      "cell_type": "markdown",
      "source": [
        "Створено вектор за допомогою модулю random.uniform, розмірністю 10 з випадковими дійсними значеннями в діапазоні від 0 до 1.\n",
        "Створено матрицю розмірністю 3х3 із заданими в умові задачі значеннями."
      ],
      "metadata": {
        "id": "IzZ1LOIzFk1J"
      }
    },
    {
      "cell_type": "markdown",
      "source": [
        "\n",
        "### Завдання 2: Операції над векторами та матрицями\n",
        "Виконайте кожну з зазначених операцій над зазначеними оʼєктами і виведіть результат на екран:\n",
        "1. Додайте до кожного значення вектора `vector` число 10 і округліть кожне значення до 2 знаків після коми без використання циклів.\n",
        "2. Помножте кожен елемент матриці з першого завдання на 2 без використання циклів.\n",
        "3. Створіть новий вектор, який містить квадрат кожного `vector` без циклів.\n"
      ],
      "metadata": {
        "id": "TSJ1P4OuOVe2"
      }
    },
    {
      "cell_type": "code",
      "source": [
        "# 1\n",
        "vector_plus_10 = np.round(vector + 10, 2)\n",
        "print(\"Вектор після додавання 10 і округлення:\")\n",
        "print(vector_plus_10)"
      ],
      "metadata": {
        "id": "nAAojtyUVJXN",
        "colab": {
          "base_uri": "https://localhost:8080/"
        },
        "outputId": "b053e584-0be0-4b03-e35e-7de1ddda2bbe"
      },
      "execution_count": null,
      "outputs": [
        {
          "output_type": "stream",
          "name": "stdout",
          "text": [
            "Вектор після додавання 10 і округлення:\n",
            "[10.2  10.12 10.68 10.7  10.45 10.26 10.17 10.78 10.96 10.94]\n"
          ]
        }
      ]
    },
    {
      "cell_type": "code",
      "source": [
        "# 2\n",
        "matrix_times_2 = matrix * 2\n",
        "print(\"Матриця після множення на 2:\")\n",
        "print(matrix_times_2)"
      ],
      "metadata": {
        "colab": {
          "base_uri": "https://localhost:8080/"
        },
        "id": "dd-RwJXaKM_R",
        "outputId": "6cb63257-0975-4281-b68f-35c1f135c35d"
      },
      "execution_count": null,
      "outputs": [
        {
          "output_type": "stream",
          "name": "stdout",
          "text": [
            "Матриця після множення на 2:\n",
            "[[22 28 34]\n",
            " [40 46 52]\n",
            " [58 64 70]]\n"
          ]
        }
      ]
    },
    {
      "cell_type": "code",
      "source": [
        "# 3\n",
        "vector_squared = np.square(vector)\n",
        "print(\"Вектор з квадратами кожного елемента vector:\")\n",
        "print(vector_squared)\n"
      ],
      "metadata": {
        "colab": {
          "base_uri": "https://localhost:8080/"
        },
        "id": "dVkE_V9qKtVT",
        "outputId": "c76f3e92-1512-4c8f-f96c-90e8253ada90"
      },
      "execution_count": null,
      "outputs": [
        {
          "output_type": "stream",
          "name": "stdout",
          "text": [
            "Вектор з квадратами кожного елемента vector:\n",
            "[0.04085084 0.0141507  0.4635107  0.49518107 0.20456613 0.0692999\n",
            " 0.02905137 0.60910871 0.92673338 0.88422446]\n"
          ]
        }
      ]
    },
    {
      "cell_type": "markdown",
      "source": [
        "\n",
        "### Завдання 3: Множення матриць\n",
        "1. Задані дві матриці `A` і `B`розмірностями 3x2 та 2х3. Виконайте їхнє множення, щоб отримати матрицю 2x2. Виведіть результуючу матрицю `result_matrix` на екран.\n",
        "\n",
        "2. Заданий вектор `C` розмірністю 2х1. Подумайте спочатку, яку розмірність Ви отрмаєте, коли домножите `result_matrix` на вектор `C` і який результат буде. А потім виконайте множення і виведіть результат на екран.\n",
        "\n",
        "3. Задана матриця `D` розмірністю 2х2. Подумайте спочатку, яку розмірність Ви отрмаєте, коли домножите `result_matrix` на матрицю `D` і який результат буде. А потім виконайте множення і виведіть результат на екран."
      ],
      "metadata": {
        "id": "u6RvWVfhPy-k"
      }
    },
    {
      "cell_type": "code",
      "source": [
        "A = np.array(\n",
        "    [[0.18, 0.53],\n",
        "     [0.75, 0.47],\n",
        "     [0.35, 0.21]])\n",
        "\n",
        "B = np.array(\n",
        "    [[0.17, 0.58, 0.75],\n",
        "     [0.38, 0.11, 0.15]])\n",
        "\n",
        "C = np.array([[0], [1]])\n",
        "\n",
        "D = np.array([[0,1], [1,0]])\n",
        "\n",
        "display(A, B, C, D)"
      ],
      "metadata": {
        "id": "RwXfPzlbSJ44",
        "colab": {
          "base_uri": "https://localhost:8080/",
          "height": 180
        },
        "outputId": "07dfa77b-b06d-4453-ee4c-b21ca8a5a4e6"
      },
      "execution_count": null,
      "outputs": [
        {
          "output_type": "display_data",
          "data": {
            "text/plain": [
              "array([[0.18, 0.53],\n",
              "       [0.75, 0.47],\n",
              "       [0.35, 0.21]])"
            ]
          },
          "metadata": {}
        },
        {
          "output_type": "display_data",
          "data": {
            "text/plain": [
              "array([[0.17, 0.58, 0.75],\n",
              "       [0.38, 0.11, 0.15]])"
            ]
          },
          "metadata": {}
        },
        {
          "output_type": "display_data",
          "data": {
            "text/plain": [
              "array([[0],\n",
              "       [1]])"
            ]
          },
          "metadata": {}
        },
        {
          "output_type": "display_data",
          "data": {
            "text/plain": [
              "array([[0, 1],\n",
              "       [1, 0]])"
            ]
          },
          "metadata": {}
        }
      ]
    },
    {
      "cell_type": "code",
      "source": [
        "#1\n",
        "result_matrix = np.dot(B, A)\n",
        "print(\"Резутат множенння матриць B та A:\")\n",
        "print(result_matrix)"
      ],
      "metadata": {
        "id": "z7-boTbhVKkj",
        "colab": {
          "base_uri": "https://localhost:8080/"
        },
        "outputId": "479e3fa2-f6e5-438b-e546-066efb91f9c2"
      },
      "execution_count": null,
      "outputs": [
        {
          "output_type": "stream",
          "name": "stdout",
          "text": [
            "Резутат множенння матриць B та A:\n",
            "[[0.7281 0.5202]\n",
            " [0.2034 0.2846]]\n"
          ]
        }
      ]
    },
    {
      "cell_type": "markdown",
      "source": [
        "Правило таке, що результатом множення матриці розміром  mхn  на матрицю розміром  nхp  є нова матриця розміром  mхp.\n",
        "\n",
        "Тому, щоб отримати матрицю розмірністю 2х2 у нашому випадку необхідно матрицю B розміром  2х3  помножити на матрицю A розміром  3×2."
      ],
      "metadata": {
        "id": "xmjL2X6ZRLFZ"
      }
    },
    {
      "cell_type": "code",
      "source": [
        "#2\n",
        "result_matrix_C = np.dot(result_matrix, C)\n",
        "print(\"Результат множення матриці result_matrix на вектор C:\")\n",
        "print(result_matrix_C)\n"
      ],
      "metadata": {
        "colab": {
          "base_uri": "https://localhost:8080/"
        },
        "id": "ZTUPFZZXRzzK",
        "outputId": "69fba519-2e46-4530-f0d9-10989aa0644f"
      },
      "execution_count": null,
      "outputs": [
        {
          "output_type": "stream",
          "name": "stdout",
          "text": [
            "Результат множення матриці result_matrix на вектор C:\n",
            "[[0.5202]\n",
            " [0.2846]]\n"
          ]
        }
      ]
    },
    {
      "cell_type": "markdown",
      "source": [
        "При множенні матриці result_matrix, що має розмірність 2х2 (2 рядки, 2 стовпці) на вектор С, що має розмірність 2х1 (2 рядки, 1 стовпець) ми отримаємо матрицю розміром 2×1 (2 рядки, 1 стовпець)."
      ],
      "metadata": {
        "id": "79SvosvNVr8s"
      }
    },
    {
      "cell_type": "code",
      "source": [
        "#3\n",
        "result_matrix_D = np.dot(result_matrix, D)\n",
        "print(\"Результат множення матриці result_matrix на матрицю D:\")\n",
        "print(result_matrix_D)"
      ],
      "metadata": {
        "colab": {
          "base_uri": "https://localhost:8080/"
        },
        "id": "t9Dy2r29VIpv",
        "outputId": "876bc8ae-a89e-46c6-f444-e5c4bb0d4755"
      },
      "execution_count": null,
      "outputs": [
        {
          "output_type": "stream",
          "name": "stdout",
          "text": [
            "Результат множення матриці result_matrix на матрицю D:\n",
            "[[0.5202 0.7281]\n",
            " [0.2846 0.2034]]\n"
          ]
        }
      ]
    },
    {
      "cell_type": "markdown",
      "source": [
        "Оскільки результатом множення матриці розміром mхn на матрицю розміром nхp є нова матриця розміром mхp, то при множенні матриці result_matrix, що має\n",
        "розмірність 2х2 на матрицю D, що має розмірність 2х2 ми отримаємо матрицю розміром 2×2."
      ],
      "metadata": {
        "id": "gB0OVFhzVqqG"
      }
    },
    {
      "cell_type": "markdown",
      "source": [
        "\n",
        "### Завдання 4: Транспонування матриць\n",
        "1. Транспонуйте `result_matrix`.\n",
        "2. Зробіть транспонування вектора `vector` і виведіть форму нової структури. Чи бачите ви зміну?\n",
        "3. Використайте операцію `numpy.expand_dims` над вектором `vector` з аргументом axis=1. Запишіть отриманий результат в змінну `column_vector` і виведіть на екран. Порівняйте з `vector`.\n",
        "4. Зробіть транспонування `column_vector`, виведіть результат на екран разом з розмірностями отриманої структури.\n",
        "\n",
        "\n"
      ],
      "metadata": {
        "id": "wohp0_cxSGpl"
      }
    },
    {
      "cell_type": "code",
      "source": [
        "#1\n",
        "print(\"Оригінальна матриця:\")\n",
        "print(result_matrix)\n"
      ],
      "metadata": {
        "colab": {
          "base_uri": "https://localhost:8080/"
        },
        "id": "3VBE1ZXUZQBP",
        "outputId": "74c6fb23-9c46-4602-d928-7e2ac2f9b45d"
      },
      "execution_count": null,
      "outputs": [
        {
          "output_type": "stream",
          "name": "stdout",
          "text": [
            "Оригінальна матриця:\n",
            "[[0.7281 0.5202]\n",
            " [0.2034 0.2846]]\n"
          ]
        }
      ]
    },
    {
      "cell_type": "code",
      "source": [
        "result_matrix_T = result_matrix.T\n",
        "print(\"Транспонована матриця:\")\n",
        "print(result_matrix_T)"
      ],
      "metadata": {
        "id": "4hFcq1baVLii",
        "colab": {
          "base_uri": "https://localhost:8080/"
        },
        "outputId": "c2102e2a-8477-47bd-98df-d028c610ee4c"
      },
      "execution_count": null,
      "outputs": [
        {
          "output_type": "stream",
          "name": "stdout",
          "text": [
            "Транспонована матриця:\n",
            "[[0.7281 0.2034]\n",
            " [0.5202 0.2846]]\n"
          ]
        }
      ]
    },
    {
      "cell_type": "markdown",
      "source": [
        "Як бачимо після транспонування рядки з оригінальної матриці перетворились на стовпці у транспонованій і аналогічно стовпці з оригінальної стали рядками у транспонованій матриці."
      ],
      "metadata": {
        "id": "giHX1hsKZj0s"
      }
    },
    {
      "cell_type": "code",
      "source": [
        "#2\n",
        "print(\"Оригінальний вектор:\")\n",
        "print(vector)\n"
      ],
      "metadata": {
        "colab": {
          "base_uri": "https://localhost:8080/"
        },
        "id": "w4nPgG0Ba2Ax",
        "outputId": "a091c5a1-223c-4442-f626-74c9b39fe623"
      },
      "execution_count": null,
      "outputs": [
        {
          "output_type": "stream",
          "name": "stdout",
          "text": [
            "Оригінальний вектор:\n",
            "[0.2021159  0.11895671 0.6808162  0.70369103 0.45228988 0.26324875\n",
            " 0.17044462 0.78045417 0.96266992 0.9403321 ]\n"
          ]
        }
      ]
    },
    {
      "cell_type": "code",
      "source": [
        "vector_T = vector.T\n",
        "print(\"Транспонований вектор:\")\n",
        "print(vector_T)\n",
        "print(\"Форма після транспонування:\")\n",
        "print(vector_T.shape)"
      ],
      "metadata": {
        "colab": {
          "base_uri": "https://localhost:8080/"
        },
        "id": "HfVujn21aoMY",
        "outputId": "2a857062-578b-430a-80fb-4fbc65dfe884"
      },
      "execution_count": null,
      "outputs": [
        {
          "output_type": "stream",
          "name": "stdout",
          "text": [
            "Транспонований вектор:\n",
            "[0.2021159  0.11895671 0.6808162  0.70369103 0.45228988 0.26324875\n",
            " 0.17044462 0.78045417 0.96266992 0.9403321 ]\n",
            "Форма після транспонування:\n",
            "(10,)\n"
          ]
        }
      ]
    },
    {
      "cell_type": "markdown",
      "source": [
        "Висновок: Форма вектора після транспонування не змінюється, тому що він одновимірний."
      ],
      "metadata": {
        "id": "XEk-ou_Wcz2a"
      }
    },
    {
      "cell_type": "code",
      "source": [
        "#3\n",
        "column_vector = np.expand_dims(vector, axis = 1)\n",
        "print(\"column_vector:\")\n",
        "print(column_vector)\n",
        "print(\"Форма column_vector:\", column_vector.shape)"
      ],
      "metadata": {
        "colab": {
          "base_uri": "https://localhost:8080/"
        },
        "id": "XIuaXWgtdC6W",
        "outputId": "67b83f8a-cd75-44c6-f93c-58b45fa26a51"
      },
      "execution_count": null,
      "outputs": [
        {
          "output_type": "stream",
          "name": "stdout",
          "text": [
            "column_vector:\n",
            "[[0.2021159 ]\n",
            " [0.11895671]\n",
            " [0.6808162 ]\n",
            " [0.70369103]\n",
            " [0.45228988]\n",
            " [0.26324875]\n",
            " [0.17044462]\n",
            " [0.78045417]\n",
            " [0.96266992]\n",
            " [0.9403321 ]]\n",
            "Форма column_vector: (10, 1)\n"
          ]
        }
      ]
    },
    {
      "cell_type": "markdown",
      "source": [
        "Порівняння:\n",
        "\n",
        "vector має розмірність (10,)\n",
        "\n",
        "column_vector має розмірність (10, 1)\n",
        "\n",
        "Операція numpy.expand_dims додає вимір нашому вектору. Оскільки аргумент axis=1, це перетворює вектор розмірністю (n,) у вектор-стовпець розмірністю (n,1)\n",
        "\n",
        "Тому тепер ми маємо вектор-стовпець розмірністю 10х1 (10 рядків, 1 стовпець)\n"
      ],
      "metadata": {
        "id": "gdWKst-5gzvC"
      }
    },
    {
      "cell_type": "code",
      "source": [
        "#4\n",
        "column_vector_T = column_vector.T\n",
        "print(column_vector_T)\n",
        "print(\"Розмірність column_vector_T:\", column_vector_T.shape)"
      ],
      "metadata": {
        "colab": {
          "base_uri": "https://localhost:8080/"
        },
        "id": "CCvfXisnilr4",
        "outputId": "32891408-e006-4188-cdab-ffeba16891d9"
      },
      "execution_count": null,
      "outputs": [
        {
          "output_type": "stream",
          "name": "stdout",
          "text": [
            "[[0.2021159  0.11895671 0.6808162  0.70369103 0.45228988 0.26324875\n",
            "  0.17044462 0.78045417 0.96266992 0.9403321 ]]\n",
            "Розмірність column_vector_T: (1, 10)\n"
          ]
        }
      ]
    },
    {
      "cell_type": "markdown",
      "source": [
        "Транспонування column_vector перетворює його у вектор-рядок із розмірністю (1, 10)."
      ],
      "metadata": {
        "id": "QKQ2Kzn_jccl"
      }
    }
  ]
}
